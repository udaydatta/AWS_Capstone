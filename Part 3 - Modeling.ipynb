{
 "cells": [
  {
   "cell_type": "markdown",
   "metadata": {},
   "source": [
    "# Import Libraries , Load Functions"
   ]
  },
  {
   "cell_type": "code",
   "execution_count": 1,
   "metadata": {},
   "outputs": [
    {
     "name": "stderr",
     "output_type": "stream",
     "text": [
      "Using TensorFlow backend.\n"
     ]
    }
   ],
   "source": [
    "import matplotlib.pyplot as plt\n",
    "import pandas as pd\n",
    "import numpy as np\n",
    "import cv2\n",
    "import os\n",
    "import subprocess\n",
    "import os.path\n",
    "import time\n",
    "import math\n",
    "import csv\n",
    "#%matplotlib inline\n",
    "    \n",
    "from sklearn.datasets import make_regression, make_classification, load_iris\n",
    "from sklearn.preprocessing import StandardScaler, OneHotEncoder, LabelEncoder\n",
    "from sklearn.model_selection import train_test_split\n",
    "from sklearn.metrics import confusion_matrix\n",
    "\n",
    "from keras.models import Sequential, Model, load_model\n",
    "from keras.layers import Dense, Dropout, Activation, Flatten, Conv2D, MaxPooling2D\n",
    "from keras.utils import to_categorical,np_utils\n",
    "from keras.callbacks import EarlyStopping\n",
    "\n",
    "#Function from Alex Lin \n",
    "def bash(string):\n",
    "    '''run a bash command and return stdout lines as a py list'''\n",
    "    stdout=(subprocess.Popen(string, shell=True, stdout=subprocess.PIPE).stdout.read())\n",
    "    output = str(stdout)[2:-1].split('\\\\n')[:-1]\n",
    "    #output = str(stdout).split('\\\\n')[1:-1]\n",
    "    #output[0] = output[0][2:]\n",
    "    return output\n",
    "\n",
    "# Get all the spectrograms in the Data Folder\n",
    "# then put in a numpy array\n",
    "# Get labels too"
   ]
  },
  {
   "cell_type": "code",
   "execution_count": 2,
   "metadata": {},
   "outputs": [],
   "source": [
    "def load_data(data_folder, divisor, start_at = \"none\", stop = \"none\"):\n",
    "    lis = bash('ls '+ data_folder)\n",
    "    \n",
    "    start_flag = 0\n",
    "    img_array = []\n",
    "    labels = []\n",
    "    \n",
    "    if start_at == \"none\":\n",
    "        start_flag = 1\n",
    "\n",
    "    for path in lis:\n",
    "        path_ = data_folder+ path\n",
    "        \n",
    "        if path_ == start_at:\n",
    "            start_flag = 1\n",
    "        \n",
    "        if start_flag == 0:\n",
    "            continue\n",
    "\n",
    "        if path_ == stop:\n",
    "            break;\n",
    "\n",
    "        img = cv2.imread(path_,1)\n",
    "        img_norm = img/255\n",
    "        img_norm.resize(int(513/divisor),int(800/divisor),3)\n",
    "        img_array.append(img_norm)\n",
    "        labels.append(path[0:6])\n",
    "    return img_array, labels"
   ]
  },
  {
   "cell_type": "code",
   "execution_count": 3,
   "metadata": {},
   "outputs": [],
   "source": [
    "def convert_img_array_to_X(img_array):\n",
    "    X = np.array(img_array)\n",
    "    return X"
   ]
  },
  {
   "cell_type": "code",
   "execution_count": 4,
   "metadata": {},
   "outputs": [],
   "source": [
    "def labels_onehot(labels):\n",
    "    le = LabelEncoder()\n",
    "    y_cat = le.fit_transform(labels)\n",
    "    y_cat = y_cat.reshape(-1,1)\n",
    "    \n",
    "    ohe = OneHotEncoder()\n",
    "    y_cat = ohe.fit_transform(y_cat).toarray()\n",
    "    \n",
    "    return y_cat"
   ]
  },
  {
   "cell_type": "code",
   "execution_count": 25,
   "metadata": {},
   "outputs": [],
   "source": [
    "def load_process_data(data_folder, divisor, start_at = \"none\", stop = \"none\"):\n",
    "    lis = bash('ls '+ data_folder)\n",
    "    \n",
    "    start_flag = 0\n",
    "    img_array = []\n",
    "    labels = []\n",
    "    \n",
    "    if start_at == \"none\":\n",
    "        start_flag = 1\n",
    "\n",
    "    for path in lis:\n",
    "        path_ = data_folder+ path\n",
    "        \n",
    "        if path_ == start_at:\n",
    "            start_flag = 1\n",
    "        \n",
    "        if start_flag == 0:\n",
    "            continue\n",
    "        \n",
    "        \n",
    "        if path_ == stop:\n",
    "            break;\n",
    "\n",
    "        img = cv2.imread(path_,1)\n",
    "        img_norm = img/255\n",
    "        img_norm.resize(int(513/divisor),int(800/divisor),3)\n",
    "        img_array.append(img_norm)\n",
    "        labels.append(path[0:6])\n",
    "    \n",
    "    img_array_nd = np.array(img_array)\n",
    "    \n",
    "    le = LabelEncoder()\n",
    "    y_cat = le.fit_transform(labels)\n",
    "    y_cat = y_cat.reshape(-1,1)\n",
    "    \n",
    "    ohe = OneHotEncoder()\n",
    "    y_cat = ohe.fit_transform(y_cat).toarray()\n",
    "    \n",
    "    X = img_array_nd\n",
    "    y = y_cat\n",
    "    \n",
    "    return X,y,labels"
   ]
  },
  {
   "cell_type": "markdown",
   "metadata": {},
   "source": [
    "# Process Data"
   ]
  },
  {
   "cell_type": "markdown",
   "metadata": {},
   "source": [
    "First process"
   ]
  },
  {
   "cell_type": "code",
   "execution_count": 26,
   "metadata": {},
   "outputs": [],
   "source": [
    "X,y,labels = load_process_data(data_folder=\"../Data/\", divisor = 2,start_at = 'none',stop = '../Data/06_mp3-314.png')"
   ]
  },
  {
   "cell_type": "code",
   "execution_count": 27,
   "metadata": {},
   "outputs": [],
   "source": [
    "X_train, X_test, y_train, y_test = train_test_split(X,y,test_size = 0.1,stratify = y)"
   ]
  },
  {
   "cell_type": "code",
   "execution_count": 28,
   "metadata": {},
   "outputs": [
    {
     "data": {
      "text/plain": [
       "(2507, 256, 400, 3)"
      ]
     },
     "execution_count": 28,
     "metadata": {},
     "output_type": "execute_result"
    }
   ],
   "source": [
    "X.shape"
   ]
  },
  {
   "cell_type": "markdown",
   "metadata": {},
   "source": [
    "Updated Process"
   ]
  },
  {
   "cell_type": "code",
   "execution_count": 5,
   "metadata": {},
   "outputs": [],
   "source": [
    "array2 ,labels2 = load_data(data_folder=\"../Data/\", divisor = 2,start_at = 'none',stop = '../Data/100_mp-000.png')"
   ]
  },
  {
   "cell_type": "code",
   "execution_count": 6,
   "metadata": {},
   "outputs": [],
   "source": [
    "X2 = convert_img_array_to_X(array2)\n",
    "y2 = labels_onehot(labels2)"
   ]
  },
  {
   "cell_type": "code",
   "execution_count": 7,
   "metadata": {},
   "outputs": [],
   "source": [
    "X_train2, X_test2, y_train2, y_test2 = train_test_split(X2,y2,test_size = 0.1,stratify = y2)"
   ]
  },
  {
   "cell_type": "code",
   "execution_count": 8,
   "metadata": {},
   "outputs": [
    {
     "data": {
      "text/plain": [
       "9"
      ]
     },
     "execution_count": 8,
     "metadata": {},
     "output_type": "execute_result"
    }
   ],
   "source": [
    "y2.shape[1]"
   ]
  },
  {
   "cell_type": "markdown",
   "metadata": {},
   "source": [
    "# Create Model"
   ]
  },
  {
   "cell_type": "code",
   "execution_count": 9,
   "metadata": {},
   "outputs": [],
   "source": [
    "model2 = Sequential()\n",
    "\n",
    "model2.add(Conv2D(filters = 8,                   # number of filters\n",
    "                         kernel_size = 5,        # height/width of filter\n",
    "                         padding = \"same\",\n",
    "                         activation='relu',      # activation function \n",
    "                         input_shape=(X_test2[0].shape))) # shape of input (dimensions of training image)\n",
    "\n",
    "model2.add(Conv2D(16, kernel_size = 5, activation='relu'))\n",
    "model2.add(MaxPooling2D(pool_size=(2,2)))\n",
    "model2.add(Dropout(0.25))\n",
    " \n",
    "model2.add(Conv2D(16, kernel_size = 3, activation='relu'))\n",
    "model2.add(Conv2D(16, kernel_size = 3, activation='relu'))\n",
    "model2.add(MaxPooling2D(pool_size=(2,2)))\n",
    "\n",
    "model2.add(Flatten())\n",
    "model2.add(Activation('relu'))\n",
    "model2.add(Dense(y2.shape[1], activation='softmax'))"
   ]
  },
  {
   "cell_type": "code",
   "execution_count": 10,
   "metadata": {},
   "outputs": [
    {
     "name": "stdout",
     "output_type": "stream",
     "text": [
      "_________________________________________________________________\n",
      "Layer (type)                 Output Shape              Param #   \n",
      "=================================================================\n",
      "conv2d_1 (Conv2D)            (None, 256, 400, 8)       608       \n",
      "_________________________________________________________________\n",
      "conv2d_2 (Conv2D)            (None, 252, 396, 16)      3216      \n",
      "_________________________________________________________________\n",
      "max_pooling2d_1 (MaxPooling2 (None, 126, 198, 16)      0         \n",
      "_________________________________________________________________\n",
      "dropout_1 (Dropout)          (None, 126, 198, 16)      0         \n",
      "_________________________________________________________________\n",
      "conv2d_3 (Conv2D)            (None, 124, 196, 16)      2320      \n",
      "_________________________________________________________________\n",
      "conv2d_4 (Conv2D)            (None, 122, 194, 16)      2320      \n",
      "_________________________________________________________________\n",
      "max_pooling2d_2 (MaxPooling2 (None, 61, 97, 16)        0         \n",
      "_________________________________________________________________\n",
      "flatten_1 (Flatten)          (None, 94672)             0         \n",
      "_________________________________________________________________\n",
      "activation_1 (Activation)    (None, 94672)             0         \n",
      "_________________________________________________________________\n",
      "dense_1 (Dense)              (None, 9)                 852057    \n",
      "=================================================================\n",
      "Total params: 860,521\n",
      "Trainable params: 860,521\n",
      "Non-trainable params: 0\n",
      "_________________________________________________________________\n"
     ]
    }
   ],
   "source": [
    "model2.summary()"
   ]
  },
  {
   "cell_type": "code",
   "execution_count": 11,
   "metadata": {},
   "outputs": [],
   "source": [
    "model2.compile(loss='categorical_crossentropy',\n",
    "              optimizer='adam',\n",
    "              metrics=['accuracy'])\n",
    "earlystop = EarlyStopping(monitor='val_acc', min_delta=0.0001, patience=3,verbose=1, mode='auto')\n",
    "callbacks_list = [earlystop]"
   ]
  },
  {
   "cell_type": "markdown",
   "metadata": {},
   "source": [
    "# Run Model"
   ]
  },
  {
   "cell_type": "code",
   "execution_count": 12,
   "metadata": {
    "scrolled": true
   },
   "outputs": [
    {
     "name": "stdout",
     "output_type": "stream",
     "text": [
      "Train on 3446 samples, validate on 383 samples\n",
      "Epoch 1/100\n",
      "3446/3446 [==============================] - 38s 11ms/step - loss: 1.7396 - acc: 0.3825 - val_loss: 1.0319 - val_acc: 0.6345\n",
      "Epoch 2/100\n",
      "3446/3446 [==============================] - 33s 10ms/step - loss: 0.7017 - acc: 0.7690 - val_loss: 0.5627 - val_acc: 0.8094\n",
      "Epoch 3/100\n",
      "3446/3446 [==============================] - 33s 10ms/step - loss: 0.3294 - acc: 0.8897 - val_loss: 0.4280 - val_acc: 0.8486\n",
      "Epoch 4/100\n",
      "3446/3446 [==============================] - 33s 10ms/step - loss: 0.1979 - acc: 0.9350 - val_loss: 0.4229 - val_acc: 0.8721\n",
      "Epoch 5/100\n",
      "3446/3446 [==============================] - 33s 10ms/step - loss: 0.1125 - acc: 0.9649 - val_loss: 0.3364 - val_acc: 0.9008\n",
      "Epoch 6/100\n",
      "3446/3446 [==============================] - 33s 10ms/step - loss: 0.0402 - acc: 0.9887 - val_loss: 0.3846 - val_acc: 0.8903\n",
      "Epoch 7/100\n",
      "3446/3446 [==============================] - 33s 10ms/step - loss: 0.0349 - acc: 0.9867 - val_loss: 0.4095 - val_acc: 0.8903\n",
      "Epoch 8/100\n",
      "3446/3446 [==============================] - 33s 10ms/step - loss: 0.0440 - acc: 0.9840 - val_loss: 0.4266 - val_acc: 0.8877\n",
      "Epoch 00008: early stopping\n"
     ]
    },
    {
     "data": {
      "text/plain": [
       "<keras.callbacks.History at 0x7f9883d43ba8>"
      ]
     },
     "execution_count": 12,
     "metadata": {},
     "output_type": "execute_result"
    }
   ],
   "source": [
    "model2.fit(X_train2, y_train2, epochs=100, verbose=1, validation_data=(X_test2,y_test2),callbacks=callbacks_list)"
   ]
  },
  {
   "cell_type": "code",
   "execution_count": 15,
   "metadata": {},
   "outputs": [
    {
     "data": {
      "text/plain": [
       "array([[46,  0,  0,  0,  0,  0,  0,  0,  0],\n",
       "       [ 0, 37,  2,  0,  0,  0,  7,  0,  0],\n",
       "       [ 0,  1, 30,  0,  1,  0,  0,  0,  0],\n",
       "       [ 0,  6,  0, 33,  2,  0,  2,  4,  0],\n",
       "       [ 0,  1,  1,  0, 43,  2,  1,  0,  1],\n",
       "       [ 1,  0,  0,  0,  2, 24,  1,  2,  1],\n",
       "       [ 0,  2,  1,  0,  0,  0, 41,  1,  0],\n",
       "       [ 0,  0,  0,  0,  0,  1,  0, 46,  0],\n",
       "       [ 0,  0,  0,  0,  0,  0,  0,  0, 40]])"
      ]
     },
     "execution_count": 15,
     "metadata": {},
     "output_type": "execute_result"
    }
   ],
   "source": [
    "predictions = model2.predict_classes(X_test2) \n",
    "y_test2_class= [np.where(r==1)[0][0] for r in y_test2]\n",
    "\n",
    "confusion_matrix( y_test2_class, predictions )"
   ]
  },
  {
   "cell_type": "markdown",
   "metadata": {},
   "source": [
    "# Save"
   ]
  },
  {
   "cell_type": "code",
   "execution_count": 16,
   "metadata": {},
   "outputs": [],
   "source": [
    "model2.save('model_03_9ppl_v1.h5')"
   ]
  },
  {
   "cell_type": "markdown",
   "metadata": {},
   "source": [
    "# Transfer Learning"
   ]
  },
  {
   "cell_type": "markdown",
   "metadata": {},
   "source": [
    "Load Model"
   ]
  },
  {
   "cell_type": "code",
   "execution_count": 5,
   "metadata": {},
   "outputs": [],
   "source": [
    "model = load_model('model_03_9ppl_v1.h5')"
   ]
  },
  {
   "cell_type": "code",
   "execution_count": 6,
   "metadata": {},
   "outputs": [],
   "source": [
    "model3 = Model(inputs=model.input, outputs=model.get_layer('flatten_1').output)"
   ]
  },
  {
   "cell_type": "markdown",
   "metadata": {},
   "source": [
    "Load Data for Train , Test"
   ]
  },
  {
   "cell_type": "code",
   "execution_count": 7,
   "metadata": {},
   "outputs": [],
   "source": [
    "array3 ,labels3 = load_data(data_folder=\"../Data/\", divisor = 2,start_at = '../Data/100_mp-000.png',stop = '../Data/103_mp-000.png')"
   ]
  },
  {
   "cell_type": "code",
   "execution_count": 8,
   "metadata": {},
   "outputs": [],
   "source": [
    "X3 = convert_img_array_to_X(array3)\n",
    "y3 = labels_onehot(labels3)"
   ]
  },
  {
   "cell_type": "markdown",
   "metadata": {},
   "source": [
    "Train-Test Split"
   ]
  },
  {
   "cell_type": "code",
   "execution_count": 9,
   "metadata": {},
   "outputs": [],
   "source": [
    "X_train3, X_test3, y_train3, y_test3 = train_test_split(X3,y3,test_size = 0.1,stratify = y3)"
   ]
  },
  {
   "cell_type": "markdown",
   "metadata": {},
   "source": [
    "Initialize SVM"
   ]
  },
  {
   "cell_type": "code",
   "execution_count": 11,
   "metadata": {},
   "outputs": [],
   "source": [
    "from sklearn import svm\n",
    "clf = svm.SVC(kernel='rbf', class_weight='balanced')\n",
    "\n",
    "X_train3_predict = model3.predict(X_train3)\n",
    "X_test3_predict = model3.predict(X_test3)\n",
    "\n",
    "y_train3_predict = [np.where(r==1)[0][0] for r in y_train3]\n",
    "y_test3_predict = [np.where(r==1)[0][0] for r in y_test3]\n",
    "\n",
    "\n"
   ]
  },
  {
   "cell_type": "code",
   "execution_count": 13,
   "metadata": {},
   "outputs": [
    {
     "data": {
      "text/plain": [
       "(982, 3)"
      ]
     },
     "execution_count": 13,
     "metadata": {},
     "output_type": "execute_result"
    }
   ],
   "source": [
    "len(y_train3)\n",
    "y_train3.shape"
   ]
  },
  {
   "cell_type": "code",
   "execution_count": 14,
   "metadata": {},
   "outputs": [
    {
     "data": {
      "text/plain": [
       "SVC(C=1.0, cache_size=200, class_weight='balanced', coef0=0.0,\n",
       "  decision_function_shape='ovr', degree=3, gamma='auto', kernel='rbf',\n",
       "  max_iter=-1, probability=False, random_state=None, shrinking=True,\n",
       "  tol=0.001, verbose=False)"
      ]
     },
     "execution_count": 14,
     "metadata": {},
     "output_type": "execute_result"
    }
   ],
   "source": [
    "clf.fit(X_train3_predict, y_train3_predict)"
   ]
  },
  {
   "cell_type": "code",
   "execution_count": 15,
   "metadata": {},
   "outputs": [],
   "source": [
    "predictions = clf.predict(X_test3_predict)"
   ]
  },
  {
   "cell_type": "code",
   "execution_count": 16,
   "metadata": {},
   "outputs": [
    {
     "data": {
      "text/plain": [
       "0.8818181818181818"
      ]
     },
     "execution_count": 16,
     "metadata": {},
     "output_type": "execute_result"
    }
   ],
   "source": [
    "from sklearn.metrics import accuracy_score\n",
    "accuracy_score(y_test3_predict, predictions)"
   ]
  },
  {
   "cell_type": "code",
   "execution_count": 17,
   "metadata": {},
   "outputs": [
    {
     "data": {
      "text/plain": [
       "array([[46,  0,  0],\n",
       "       [ 0, 23,  0],\n",
       "       [ 0, 13, 28]])"
      ]
     },
     "execution_count": 17,
     "metadata": {},
     "output_type": "execute_result"
    }
   ],
   "source": [
    "confusion_matrix(y_test3_predict, predictions)"
   ]
  },
  {
   "cell_type": "code",
   "execution_count": null,
   "metadata": {},
   "outputs": [],
   "source": []
  },
  {
   "cell_type": "code",
   "execution_count": null,
   "metadata": {},
   "outputs": [],
   "source": []
  }
 ],
 "metadata": {
  "kernelspec": {
   "display_name": "Python 3",
   "language": "python",
   "name": "python3"
  },
  "language_info": {
   "codemirror_mode": {
    "name": "ipython",
    "version": 3
   },
   "file_extension": ".py",
   "mimetype": "text/x-python",
   "name": "python",
   "nbconvert_exporter": "python",
   "pygments_lexer": "ipython3",
   "version": "3.6.5"
  }
 },
 "nbformat": 4,
 "nbformat_minor": 2
}
