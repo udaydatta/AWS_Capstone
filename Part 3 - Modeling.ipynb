{
 "cells": [
  {
   "cell_type": "code",
   "execution_count": 22,
   "metadata": {},
   "outputs": [],
   "source": [
    "import matplotlib.pyplot as plt\n",
    "import pandas as pd\n",
    "import numpy as np\n",
    "import cv2\n",
    "import os\n",
    "import subprocess\n",
    "import os.path\n",
    "import time\n",
    "import math\n",
    "import csv\n",
    "#%matplotlib inline\n",
    "    \n",
    "from sklearn.datasets import make_regression, make_classification, load_iris\n",
    "from sklearn.preprocessing import StandardScaler, OneHotEncoder, LabelEncoder\n",
    "from sklearn.model_selection import train_test_split\n",
    "from sklearn.metrics import confusion_matrix\n",
    "\n",
    "from keras.models import Sequential\n",
    "from keras.layers import Dense, Dropout, Activation, Flatten, Conv2D, MaxPooling2D\n",
    "from keras.utils import to_categorical,np_utils\n",
    "from keras.callbacks import EarlyStopping\n",
    "\n",
    "# Some signal processing stuff\n",
    "from scipy import signal\n",
    "from scipy.io import wavfile\n",
    "\n",
    "# IPython.display lets you put interactive widgets that can play audio and video, and display images\n",
    "from IPython.display import Audio, Image"
   ]
  },
  {
   "cell_type": "code",
   "execution_count": 23,
   "metadata": {},
   "outputs": [],
   "source": [
    "#Function from Alex Lin \n",
    "def bash(string):\n",
    "    '''run a bash command and return stdout lines as a py list'''\n",
    "    stdout=(subprocess.Popen(string, shell=True, stdout=subprocess.PIPE).stdout.read())\n",
    "    output = str(stdout)[2:-1].split('\\\\n')[:-1]\n",
    "    #output = str(stdout).split('\\\\n')[1:-1]\n",
    "    #output[0] = output[0][2:]\n",
    "    return output\n",
    "\n",
    "# Get all the spectrograms in the Data Folder\n",
    "# then put in a numpy array\n",
    "# Get labels too"
   ]
  },
  {
   "cell_type": "code",
   "execution_count": 24,
   "metadata": {},
   "outputs": [],
   "source": [
    "def load_process_data(data_folder, divisor):\n",
    "    lis = bash('ls '+ data_folder)\n",
    "\n",
    "    img_array = []\n",
    "    labels = []\n",
    "\n",
    "    for path in lis:\n",
    "        path_ = data_folder+ path\n",
    "        if path_ == '../Data/06_mp3-314.png':\n",
    "            img = cv2.imread(path_,1)\n",
    "            img_norm = img/255\n",
    "            img_norm.resize(int(513/divisor),int(800/divisor),3)\n",
    "            img_array.append(img_norm)\n",
    "            labels.append(path[0:6])\n",
    "            break;\n",
    "\n",
    "        img = cv2.imread(path_,1)\n",
    "        img_norm = img/255\n",
    "        img_norm.resize(int(513/divisor),int(800/divisor),3)\n",
    "        img_array.append(img_norm)\n",
    "        labels.append(path[0:6])\n",
    "    \n",
    "    img_array_nd = np.array(img_array)\n",
    "    \n",
    "    le = LabelEncoder()\n",
    "    y_cat = le.fit_transform(labels)\n",
    "    y_cat = y_cat.reshape(-1,1)\n",
    "    \n",
    "    ohe = OneHotEncoder()\n",
    "    y_cat = ohe.fit_transform(y_cat).toarray()\n",
    "    \n",
    "    X = img_array_nd\n",
    "    y = y_cat\n",
    "    \n",
    "    return X,y,labels"
   ]
  },
  {
   "cell_type": "code",
   "execution_count": 25,
   "metadata": {},
   "outputs": [],
   "source": [
    "# def load_process_data_batches(data_folder, divisor):\n",
    "#     lis = bash('ls '+ data_folder)\n",
    "    \n",
    "#     img_array_nd = np.array([])\n",
    "#     img_array = []\n",
    "#     labels = []\n",
    "#     print(len(lis)//1000)\n",
    "#     for i in range(len(lis)//1000):\n",
    "#         img_array = []\n",
    "#         for path in lis[i*1000 : (i+1)*1000]:\n",
    "            \n",
    "#             path_ = data_folder+ path\n",
    "#         #     if path == 'E:/spectrogram/06_mp3/06_mp3-314.png':\n",
    "#         #         img = cv2.imread(path,1)\n",
    "#         #         img_norm = img/255\n",
    "#         #         img_array.append(img)\n",
    "#         #         labels.append(path[15:21])\n",
    "#         #         break;\n",
    "\n",
    "#             img = cv2.imread(path_,1)\n",
    "#             img_norm = img/255\n",
    "#             img_norm.resize(int(513/divisor),int(800/divisor),3)\n",
    "#             img_array.append(img_norm)\n",
    "#             labels.append(path[0:6])\n",
    "#         img_array_nd = np.append(img_array_nd,np.array(img_array))\n",
    "    \n",
    "#     le = LabelEncoder()\n",
    "#     y_cat = le.fit_transform(labels)\n",
    "#     y_cat = y_cat.reshape(-1,1)\n",
    "    \n",
    "#     ohe = OneHotEncoder()\n",
    "#     y_cat = ohe.fit_transform(y_cat).toarray()\n",
    "    \n",
    "#     X = img_array_nd\n",
    "#     y = y_cat\n",
    "    \n",
    "#     return X,y,labels"
   ]
  },
  {
   "cell_type": "code",
   "execution_count": 26,
   "metadata": {},
   "outputs": [],
   "source": [
    "X,y,labels = load_process_data(\"../Data/\",2)"
   ]
  },
  {
   "cell_type": "code",
   "execution_count": 28,
   "metadata": {},
   "outputs": [],
   "source": [
    "X_train, X_test, y_train, y_test = train_test_split(X,y,test_size = 0.1,stratify = y)"
   ]
  },
  {
   "cell_type": "code",
   "execution_count": 27,
   "metadata": {},
   "outputs": [
    {
     "data": {
      "text/plain": [
       "(2508, 256, 400, 3)"
      ]
     },
     "execution_count": 27,
     "metadata": {},
     "output_type": "execute_result"
    }
   ],
   "source": [
    "X.shape"
   ]
  },
  {
   "cell_type": "code",
   "execution_count": 33,
   "metadata": {},
   "outputs": [],
   "source": [
    "model2 = Sequential()\n",
    "\n",
    "model2.add(Conv2D(filters = 8,                   # number of filters\n",
    "                         kernel_size = 5,        # height/width of filter\n",
    "                         padding = \"same\",\n",
    "                         activation='relu',      # activation function \n",
    "                         input_shape=(X_test[0].shape))) # shape of input (dimensions of training image)\n",
    "\n",
    "model2.add(Conv2D(16, kernel_size = 5, activation='relu'))\n",
    "model2.add(MaxPooling2D(pool_size=(2,2)))\n",
    "model2.add(Dropout(0.25))\n",
    " \n",
    "model2.add(Conv2D(16, kernel_size = 3, activation='relu'))\n",
    "model2.add(Conv2D(16, kernel_size = 3, activation='relu'))\n",
    "model2.add(MaxPooling2D(pool_size=(2,2)))\n",
    "\n",
    "model2.add(Flatten())\n",
    "model2.add(Activation('relu'))\n",
    "# model2.add(Dense(128, activation='relu'))\n",
    "# model2.add(Dropout(0.5))\n",
    "model2.add(Dense(6, activation='softmax'))"
   ]
  },
  {
   "cell_type": "code",
   "execution_count": 34,
   "metadata": {},
   "outputs": [
    {
     "name": "stdout",
     "output_type": "stream",
     "text": [
      "_________________________________________________________________\n",
      "Layer (type)                 Output Shape              Param #   \n",
      "=================================================================\n",
      "conv2d_9 (Conv2D)            (None, 256, 400, 8)       608       \n",
      "_________________________________________________________________\n",
      "conv2d_10 (Conv2D)           (None, 252, 396, 16)      3216      \n",
      "_________________________________________________________________\n",
      "max_pooling2d_5 (MaxPooling2 (None, 126, 198, 16)      0         \n",
      "_________________________________________________________________\n",
      "dropout_3 (Dropout)          (None, 126, 198, 16)      0         \n",
      "_________________________________________________________________\n",
      "conv2d_11 (Conv2D)           (None, 124, 196, 16)      2320      \n",
      "_________________________________________________________________\n",
      "conv2d_12 (Conv2D)           (None, 122, 194, 16)      2320      \n",
      "_________________________________________________________________\n",
      "max_pooling2d_6 (MaxPooling2 (None, 61, 97, 16)        0         \n",
      "_________________________________________________________________\n",
      "flatten_3 (Flatten)          (None, 94672)             0         \n",
      "_________________________________________________________________\n",
      "activation_3 (Activation)    (None, 94672)             0         \n",
      "_________________________________________________________________\n",
      "dense_3 (Dense)              (None, 6)                 568038    \n",
      "=================================================================\n",
      "Total params: 576,502\n",
      "Trainable params: 576,502\n",
      "Non-trainable params: 0\n",
      "_________________________________________________________________\n"
     ]
    }
   ],
   "source": [
    "model2.summary()"
   ]
  },
  {
   "cell_type": "code",
   "execution_count": 35,
   "metadata": {},
   "outputs": [],
   "source": [
    "model2.compile(loss='categorical_crossentropy',\n",
    "              optimizer='adam',\n",
    "              metrics=['accuracy'])\n",
    "earlystop = EarlyStopping(monitor='val_acc', min_delta=0.0001, patience=3,verbose=1, mode='auto')\n",
    "callbacks_list = [earlystop]"
   ]
  },
  {
   "cell_type": "code",
   "execution_count": 37,
   "metadata": {},
   "outputs": [
    {
     "name": "stdout",
     "output_type": "stream",
     "text": [
      "Train on 2257 samples, validate on 251 samples\n",
      "Epoch 1/100\n",
      "2257/2257 [==============================] - 47s 21ms/step - loss: 1.8451 - acc: 0.3079 - val_loss: 1.1166 - val_acc: 0.5697\n",
      "Epoch 2/100\n",
      "2257/2257 [==============================] - 22s 10ms/step - loss: 0.8536 - acc: 0.6779 - val_loss: 0.7723 - val_acc: 0.7450\n",
      "Epoch 3/100\n",
      "2257/2257 [==============================] - 22s 10ms/step - loss: 0.4323 - acc: 0.8463 - val_loss: 0.6049 - val_acc: 0.7968\n",
      "Epoch 4/100\n",
      "2257/2257 [==============================] - 22s 10ms/step - loss: 0.2351 - acc: 0.9211 - val_loss: 0.3890 - val_acc: 0.8526\n",
      "Epoch 5/100\n",
      "2257/2257 [==============================] - 22s 10ms/step - loss: 0.1364 - acc: 0.9557 - val_loss: 0.2087 - val_acc: 0.9363\n",
      "Epoch 6/100\n",
      "2257/2257 [==============================] - 22s 10ms/step - loss: 0.1133 - acc: 0.9623 - val_loss: 0.7647 - val_acc: 0.7769\n",
      "Epoch 7/100\n",
      "2257/2257 [==============================] - 22s 10ms/step - loss: 0.1063 - acc: 0.9681 - val_loss: 0.2586 - val_acc: 0.9243\n",
      "Epoch 8/100\n",
      "2257/2257 [==============================] - 22s 10ms/step - loss: 0.0533 - acc: 0.9845 - val_loss: 0.4806 - val_acc: 0.9004\n",
      "Epoch 00008: early stopping\n"
     ]
    },
    {
     "data": {
      "text/plain": [
       "<keras.callbacks.History at 0x7fbce0de3e10>"
      ]
     },
     "execution_count": 37,
     "metadata": {},
     "output_type": "execute_result"
    }
   ],
   "source": [
    "model2.fit(X_train, y_train, epochs=100, verbose=1, validation_data=(X_test,y_test),callbacks=callbacks_list)"
   ]
  },
  {
   "cell_type": "code",
   "execution_count": 38,
   "metadata": {},
   "outputs": [],
   "source": [
    "model2.save('model_03_6ppl.h5')"
   ]
  },
  {
   "cell_type": "code",
   "execution_count": null,
   "metadata": {},
   "outputs": [],
   "source": []
  }
 ],
 "metadata": {
  "kernelspec": {
   "display_name": "Python 3",
   "language": "python",
   "name": "python3"
  },
  "language_info": {
   "codemirror_mode": {
    "name": "ipython",
    "version": 3
   },
   "file_extension": ".py",
   "mimetype": "text/x-python",
   "name": "python",
   "nbconvert_exporter": "python",
   "pygments_lexer": "ipython3",
   "version": "3.6.5"
  }
 },
 "nbformat": 4,
 "nbformat_minor": 2
}
