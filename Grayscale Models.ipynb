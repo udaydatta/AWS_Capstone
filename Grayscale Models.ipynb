{
 "cells": [
  {
   "cell_type": "markdown",
   "metadata": {},
   "source": [
    "# Beginning"
   ]
  },
  {
   "cell_type": "code",
   "execution_count": 3,
   "metadata": {},
   "outputs": [
    {
     "name": "stderr",
     "output_type": "stream",
     "text": [
      "Using TensorFlow backend.\n"
     ]
    }
   ],
   "source": [
    "from imports_grayscale import *"
   ]
  },
  {
   "cell_type": "markdown",
   "metadata": {},
   "source": [
    "# Load"
   ]
  },
  {
   "cell_type": "code",
   "execution_count": 5,
   "metadata": {},
   "outputs": [],
   "source": [
    "X2 ,y2 = load_data(data_folder=\"../Data/\", divisor = 2,start_at = 'none',stop = 'none')"
   ]
  },
  {
   "cell_type": "code",
   "execution_count": 6,
   "metadata": {},
   "outputs": [],
   "source": [
    "y2 = labels_onehot(y2)"
   ]
  },
  {
   "cell_type": "code",
   "execution_count": 7,
   "metadata": {},
   "outputs": [],
   "source": [
    "X2 = convert_img_array_to_X(X2)\n"
   ]
  },
  {
   "cell_type": "code",
   "execution_count": 8,
   "metadata": {},
   "outputs": [],
   "source": [
    "X2 = X2.reshape(X2.shape[0],256,400,1)"
   ]
  },
  {
   "cell_type": "code",
   "execution_count": 9,
   "metadata": {},
   "outputs": [
    {
     "data": {
      "text/plain": [
       "(23360, 256, 400, 1)"
      ]
     },
     "execution_count": 9,
     "metadata": {},
     "output_type": "execute_result"
    }
   ],
   "source": [
    "X2.shape"
   ]
  },
  {
   "cell_type": "markdown",
   "metadata": {},
   "source": [
    "# Save"
   ]
  },
  {
   "cell_type": "code",
   "execution_count": 10,
   "metadata": {},
   "outputs": [],
   "source": [
    "np.save('X2.npy', X2)\n",
    "np.save('y2.npy', y2)"
   ]
  },
  {
   "cell_type": "markdown",
   "metadata": {},
   "source": [
    "# Load"
   ]
  },
  {
   "cell_type": "code",
   "execution_count": 4,
   "metadata": {},
   "outputs": [],
   "source": [
    "X2 = np.load('../X2.npy')\n",
    "y2 = np.load('../y2.npy')"
   ]
  },
  {
   "cell_type": "code",
   "execution_count": 5,
   "metadata": {},
   "outputs": [],
   "source": [
    "X_train2, X_test2, y_train2, y_test2 = train_test_split(X2,y2,test_size = 0.1,stratify = y2,random_state = 42)"
   ]
  },
  {
   "cell_type": "markdown",
   "metadata": {},
   "source": [
    "# Model"
   ]
  },
  {
   "cell_type": "code",
   "execution_count": 6,
   "metadata": {},
   "outputs": [],
   "source": [
    "model2 = Sequential()\n",
    "\n",
    "model2.add(Conv2D(filters = 16,                   # number of filters\n",
    "                         kernel_size = 3,        # height/width of filter\n",
    "                         padding = \"same\",\n",
    "                         activation='relu',      # activation function \n",
    "                         input_shape=(X2[0].shape))) # shape of input (dimensions of training image)\n",
    "\n",
    "model2.add(Conv2D(16, kernel_size = 3, activation='relu'))\n",
    "model2.add(MaxPooling2D(pool_size=(2,2)))\n",
    "model2.add(Dropout(0.5))\n",
    " \n",
    "model2.add(Conv2D(16, kernel_size = 3, activation='relu'))\n",
    "model2.add(Conv2D(16, kernel_size = 3, activation='relu'))\n",
    "model2.add(MaxPooling2D(pool_size=(2,2)))\n",
    "model2.add(Dropout(0.25))\n",
    "\n",
    "model2.add(Flatten())\n",
    "model2.add(Activation('relu'))\n",
    "model2.add(Dense(64, activation='relu'))\n",
    "model2.add(Dense(y2.shape[1], activation='softmax'))"
   ]
  },
  {
   "cell_type": "code",
   "execution_count": 7,
   "metadata": {},
   "outputs": [
    {
     "name": "stdout",
     "output_type": "stream",
     "text": [
      "_________________________________________________________________\n",
      "Layer (type)                 Output Shape              Param #   \n",
      "=================================================================\n",
      "conv2d_1 (Conv2D)            (None, 256, 400, 16)      160       \n",
      "_________________________________________________________________\n",
      "conv2d_2 (Conv2D)            (None, 254, 398, 16)      2320      \n",
      "_________________________________________________________________\n",
      "max_pooling2d_1 (MaxPooling2 (None, 127, 199, 16)      0         \n",
      "_________________________________________________________________\n",
      "dropout_1 (Dropout)          (None, 127, 199, 16)      0         \n",
      "_________________________________________________________________\n",
      "conv2d_3 (Conv2D)            (None, 125, 197, 16)      2320      \n",
      "_________________________________________________________________\n",
      "conv2d_4 (Conv2D)            (None, 123, 195, 16)      2320      \n",
      "_________________________________________________________________\n",
      "max_pooling2d_2 (MaxPooling2 (None, 61, 97, 16)        0         \n",
      "_________________________________________________________________\n",
      "dropout_2 (Dropout)          (None, 61, 97, 16)        0         \n",
      "_________________________________________________________________\n",
      "flatten_1 (Flatten)          (None, 94672)             0         \n",
      "_________________________________________________________________\n",
      "activation_1 (Activation)    (None, 94672)             0         \n",
      "_________________________________________________________________\n",
      "dense_1 (Dense)              (None, 64)                6059072   \n",
      "_________________________________________________________________\n",
      "dense_2 (Dense)              (None, 55)                3575      \n",
      "=================================================================\n",
      "Total params: 6,069,767\n",
      "Trainable params: 6,069,767\n",
      "Non-trainable params: 0\n",
      "_________________________________________________________________\n"
     ]
    }
   ],
   "source": [
    "model2.summary()"
   ]
  },
  {
   "cell_type": "code",
   "execution_count": 8,
   "metadata": {},
   "outputs": [],
   "source": [
    "model2.compile(loss='categorical_crossentropy',\n",
    "              optimizer='adam',\n",
    "              metrics=['accuracy'])\n",
    "earlystop = EarlyStopping(monitor='val_acc', min_delta=0.0001, patience=7,verbose=1, mode='auto')\n",
    "callbacks_list = [earlystop]"
   ]
  },
  {
   "cell_type": "code",
   "execution_count": 9,
   "metadata": {},
   "outputs": [
    {
     "name": "stdout",
     "output_type": "stream",
     "text": [
      "Train on 21024 samples, validate on 2336 samples\n",
      "Epoch 1/100\n",
      "21024/21024 [==============================] - 143s 7ms/step - loss: 3.0596 - acc: 0.1719 - val_loss: 2.3149 - val_acc: 0.3313\n",
      "Epoch 2/100\n",
      "21024/21024 [==============================] - 138s 7ms/step - loss: 1.7370 - acc: 0.4693 - val_loss: 1.7725 - val_acc: 0.4593\n",
      "Epoch 3/100\n",
      "21024/21024 [==============================] - 138s 7ms/step - loss: 1.2557 - acc: 0.6080 - val_loss: 1.5678 - val_acc: 0.5231\n",
      "Epoch 4/100\n",
      "21024/21024 [==============================] - 138s 7ms/step - loss: 0.8876 - acc: 0.7164 - val_loss: 1.4880 - val_acc: 0.5368\n",
      "Epoch 5/100\n",
      "21024/21024 [==============================] - 138s 7ms/step - loss: 0.6287 - acc: 0.7961 - val_loss: 1.7747 - val_acc: 0.4884\n",
      "Epoch 6/100\n",
      "21024/21024 [==============================] - 138s 7ms/step - loss: 0.4749 - acc: 0.8449 - val_loss: 1.4324 - val_acc: 0.5920\n",
      "Epoch 7/100\n",
      "21024/21024 [==============================] - 138s 7ms/step - loss: 0.3590 - acc: 0.8780 - val_loss: 1.7231 - val_acc: 0.5479\n",
      "Epoch 8/100\n",
      "21024/21024 [==============================] - 137s 7ms/step - loss: 0.2691 - acc: 0.9097 - val_loss: 2.0167 - val_acc: 0.5368\n",
      "Epoch 9/100\n",
      "21024/21024 [==============================] - 137s 7ms/step - loss: 0.2158 - acc: 0.9279 - val_loss: 2.2171 - val_acc: 0.5201\n",
      "Epoch 10/100\n",
      "21024/21024 [==============================] - 137s 7ms/step - loss: 0.1895 - acc: 0.9368 - val_loss: 2.2836 - val_acc: 0.5475\n",
      "Epoch 11/100\n",
      "21024/21024 [==============================] - 137s 7ms/step - loss: 0.1766 - acc: 0.9399 - val_loss: 2.0920 - val_acc: 0.5655\n",
      "Epoch 12/100\n",
      "21024/21024 [==============================] - 137s 7ms/step - loss: 0.1513 - acc: 0.9486 - val_loss: 2.0719 - val_acc: 0.5822\n",
      "Epoch 13/100\n",
      "21024/21024 [==============================] - 137s 7ms/step - loss: 0.1300 - acc: 0.9563 - val_loss: 1.8554 - val_acc: 0.5955\n",
      "Epoch 14/100\n",
      "21024/21024 [==============================] - 137s 7ms/step - loss: 0.1200 - acc: 0.9593 - val_loss: 2.2956 - val_acc: 0.5591\n",
      "Epoch 15/100\n",
      "21024/21024 [==============================] - 137s 7ms/step - loss: 0.1215 - acc: 0.9592 - val_loss: 2.4623 - val_acc: 0.5381\n",
      "Epoch 16/100\n",
      "21024/21024 [==============================] - 137s 7ms/step - loss: 0.1058 - acc: 0.9650 - val_loss: 2.3862 - val_acc: 0.5646\n",
      "Epoch 17/100\n",
      "21024/21024 [==============================] - 137s 7ms/step - loss: 0.0992 - acc: 0.9677 - val_loss: 2.7833 - val_acc: 0.5253\n",
      "Epoch 18/100\n",
      "21024/21024 [==============================] - 137s 7ms/step - loss: 0.1005 - acc: 0.9670 - val_loss: 2.0709 - val_acc: 0.6096\n",
      "Epoch 19/100\n",
      "21024/21024 [==============================] - 137s 7ms/step - loss: 0.0913 - acc: 0.9694 - val_loss: 2.2532 - val_acc: 0.5886\n",
      "Epoch 20/100\n",
      "21024/21024 [==============================] - 137s 7ms/step - loss: 0.0867 - acc: 0.9717 - val_loss: 2.3773 - val_acc: 0.5899\n",
      "Epoch 21/100\n",
      "21024/21024 [==============================] - 137s 7ms/step - loss: 0.0769 - acc: 0.9739 - val_loss: 2.7194 - val_acc: 0.5420\n",
      "Epoch 22/100\n",
      "21024/21024 [==============================] - 137s 7ms/step - loss: 0.0931 - acc: 0.9697 - val_loss: 2.1644 - val_acc: 0.6023\n",
      "Epoch 23/100\n",
      "21024/21024 [==============================] - 137s 7ms/step - loss: 0.0804 - acc: 0.9739 - val_loss: 2.2797 - val_acc: 0.6079\n",
      "Epoch 24/100\n",
      "21024/21024 [==============================] - 137s 7ms/step - loss: 0.0762 - acc: 0.9760 - val_loss: 2.5395 - val_acc: 0.5638\n",
      "Epoch 25/100\n",
      "21024/21024 [==============================] - 137s 7ms/step - loss: 0.0764 - acc: 0.9760 - val_loss: 2.4486 - val_acc: 0.6023\n",
      "Epoch 00025: early stopping\n"
     ]
    },
    {
     "data": {
      "text/plain": [
       "<keras.callbacks.History at 0x7f4b1abe5ba8>"
      ]
     },
     "execution_count": 9,
     "metadata": {},
     "output_type": "execute_result"
    }
   ],
   "source": [
    "model2.fit(X_train2, y_train2, epochs=100, verbose=1, validation_data=(X_test2,y_test2),callbacks=callbacks_list)"
   ]
  },
  {
   "cell_type": "code",
   "execution_count": 17,
   "metadata": {},
   "outputs": [
    {
     "data": {
      "text/plain": [
       "array([[42,  0,  0, ...,  0,  0,  0],\n",
       "       [ 0, 25,  0, ...,  1,  0,  1],\n",
       "       [ 0,  0, 13, ...,  0,  0,  4],\n",
       "       ...,\n",
       "       [ 0,  0,  0, ..., 38,  0,  1],\n",
       "       [ 1,  0,  0, ...,  0, 26,  0],\n",
       "       [ 0,  0,  0, ...,  3,  0, 24]])"
      ]
     },
     "execution_count": 17,
     "metadata": {},
     "output_type": "execute_result"
    }
   ],
   "source": [
    "predictions = model2.predict_classes(X_test2) \n",
    "y_test2_class= [np.where(r==1)[0][0] for r in y_test2]\n",
    "\n",
    "confusion_matrix( y_test2_class, predictions )"
   ]
  },
  {
   "cell_type": "markdown",
   "metadata": {},
   "source": [
    "# Save"
   ]
  },
  {
   "cell_type": "code",
   "execution_count": 10,
   "metadata": {},
   "outputs": [],
   "source": [
    "model2.save('model_grayscale_55ppl_v4.h5')"
   ]
  },
  {
   "cell_type": "markdown",
   "metadata": {},
   "source": [
    "# Different Model"
   ]
  },
  {
   "cell_type": "code",
   "execution_count": 25,
   "metadata": {},
   "outputs": [],
   "source": [
    "model = Sequential()\n",
    "\n",
    "model.add(Conv2D(filters = 32,                   # number of filters\n",
    "                         kernel_size = 5,        # height/width of filter\n",
    "                         padding = \"same\",\n",
    "                         activation='relu',      # activation function \n",
    "                         input_shape=(X2[0].shape))) # shape of input (dimensions of training image)\n",
    "\n",
    "model.add(Conv2D(32, kernel_size = 5, activation='relu'))\n",
    "model.add(MaxPooling2D(pool_size=(2,2)))\n",
    "model.add(Dropout(0.25))\n",
    " \n",
    "# model.add(Conv2D(32, kernel_size = 3, activation='relu'))\n",
    "# model.add(Conv2D(32, kernel_size = 3, activation='relu'))\n",
    "# model.add(MaxPooling2D(pool_size=(2,2)))\n",
    "# model.add(Dropout(0.25))\n",
    "\n",
    "model.add(Flatten())\n",
    "model.add(Activation('relu'))\n",
    "model.add(Dense(64, activation='relu'))\n",
    "model.add(Dense(y2.shape[1], activation='softmax'))"
   ]
  },
  {
   "cell_type": "code",
   "execution_count": 26,
   "metadata": {},
   "outputs": [
    {
     "name": "stdout",
     "output_type": "stream",
     "text": [
      "_________________________________________________________________\n",
      "Layer (type)                 Output Shape              Param #   \n",
      "=================================================================\n",
      "conv2d_17 (Conv2D)           (None, 256, 400, 32)      832       \n",
      "_________________________________________________________________\n",
      "conv2d_18 (Conv2D)           (None, 252, 396, 32)      25632     \n",
      "_________________________________________________________________\n",
      "max_pooling2d_9 (MaxPooling2 (None, 126, 198, 32)      0         \n",
      "_________________________________________________________________\n",
      "dropout_10 (Dropout)         (None, 126, 198, 32)      0         \n",
      "_________________________________________________________________\n",
      "flatten_6 (Flatten)          (None, 798336)            0         \n",
      "_________________________________________________________________\n",
      "activation_6 (Activation)    (None, 798336)            0         \n",
      "_________________________________________________________________\n",
      "dense_11 (Dense)             (None, 64)                51093568  \n",
      "_________________________________________________________________\n",
      "dense_12 (Dense)             (None, 55)                3575      \n",
      "=================================================================\n",
      "Total params: 51,123,607\n",
      "Trainable params: 51,123,607\n",
      "Non-trainable params: 0\n",
      "_________________________________________________________________\n"
     ]
    }
   ],
   "source": [
    "model.summary()"
   ]
  },
  {
   "cell_type": "code",
   "execution_count": 27,
   "metadata": {},
   "outputs": [],
   "source": [
    "model.compile(loss='categorical_crossentropy',\n",
    "              optimizer='adam',\n",
    "              metrics=['accuracy'])\n",
    "earlystop = EarlyStopping(monitor='val_acc', min_delta=0.0001, patience=7,verbose=1, mode='auto')\n",
    "callbacks_list = [earlystop]"
   ]
  },
  {
   "cell_type": "code",
   "execution_count": 28,
   "metadata": {},
   "outputs": [
    {
     "name": "stdout",
     "output_type": "stream",
     "text": [
      "Train on 21024 samples, validate on 2336 samples\n",
      "Epoch 1/100\n",
      "21024/21024 [==============================] - 315s 15ms/step - loss: 2.8900 - acc: 0.2352 - val_loss: 1.9603 - val_acc: 0.4375\n",
      "Epoch 2/100\n",
      "21024/21024 [==============================] - 312s 15ms/step - loss: 1.7393 - acc: 0.4832 - val_loss: 1.7014 - val_acc: 0.4983\n",
      "Epoch 3/100\n",
      "21024/21024 [==============================] - 312s 15ms/step - loss: 1.4189 - acc: 0.5719 - val_loss: 1.5788 - val_acc: 0.5574\n",
      "Epoch 4/100\n",
      "21024/21024 [==============================] - 311s 15ms/step - loss: 0.9200 - acc: 0.7202 - val_loss: 1.2994 - val_acc: 0.6156\n",
      "Epoch 5/100\n",
      "21024/21024 [==============================] - 311s 15ms/step - loss: 0.5021 - acc: 0.8454 - val_loss: 1.4297 - val_acc: 0.6130\n",
      "Epoch 6/100\n",
      "21024/21024 [==============================] - 311s 15ms/step - loss: 0.2490 - acc: 0.9238 - val_loss: 1.6657 - val_acc: 0.5993\n",
      "Epoch 7/100\n",
      "21024/21024 [==============================] - 311s 15ms/step - loss: 0.1430 - acc: 0.9571 - val_loss: 1.8403 - val_acc: 0.6027\n",
      "Epoch 8/100\n",
      "21024/21024 [==============================] - 311s 15ms/step - loss: 0.1047 - acc: 0.9696 - val_loss: 2.1097 - val_acc: 0.6100\n",
      "Epoch 9/100\n",
      "21024/21024 [==============================] - 311s 15ms/step - loss: 0.0830 - acc: 0.9765 - val_loss: 2.0379 - val_acc: 0.6010\n",
      "Epoch 10/100\n",
      "21024/21024 [==============================] - 311s 15ms/step - loss: 0.0614 - acc: 0.9819 - val_loss: 2.2335 - val_acc: 0.5993\n",
      "Epoch 11/100\n",
      "21024/21024 [==============================] - 311s 15ms/step - loss: 0.0647 - acc: 0.9810 - val_loss: 2.5259 - val_acc: 0.5882\n",
      "Epoch 00011: early stopping\n"
     ]
    }
   ],
   "source": [
    "history = model.fit(X_train2, y_train2, epochs=100, verbose=1, validation_data=(X_test2,y_test2),callbacks=callbacks_list)"
   ]
  },
  {
   "cell_type": "code",
   "execution_count": 33,
   "metadata": {},
   "outputs": [],
   "source": [
    "model.save('model_grayscale_55ppl_v5.h5')"
   ]
  },
  {
   "cell_type": "code",
   "execution_count": 34,
   "metadata": {},
   "outputs": [
    {
     "data": {
      "image/png": "[encoded data removed]",
      "text/plain": [
       "<Figure size 432x288 with 1 Axes>"
      ]
     },
     "metadata": {},
     "output_type": "display_data"
    }
   ],
   "source": [
    "plt.plot(history.history['acc'])\n",
    "plt.plot(history.history['val_acc'])\n",
    "plt.title('model accuracy')\n",
    "plt.ylabel('accuracy')\n",
    "plt.xlabel('epoch')\n",
    "plt.legend(['train', 'test'], loc='upper left')\n",
    "plt.show()"
   ]
  },
  {
   "cell_type": "code",
   "execution_count": 35,
   "metadata": {},
   "outputs": [
    {
     "data": {
      "image/png": "[encoded data removed]",
      "text/plain": [
       "<Figure size 432x288 with 1 Axes>"
      ]
     },
     "metadata": {},
     "output_type": "display_data"
    }
   ],
   "source": [
    "# summarize history for loss\n",
    "plt.plot(history.history['loss'])\n",
    "plt.plot(history.history['val_loss'])\n",
    "plt.title('model loss')\n",
    "plt.ylabel('loss')\n",
    "plt.xlabel('epoch')\n",
    "plt.legend(['train', 'test'], loc='upper left')\n",
    "plt.show()"
   ]
  },
  {
   "cell_type": "markdown",
   "metadata": {},
   "source": [
    "# Another Model"
   ]
  },
  {
   "cell_type": "code",
   "execution_count": 36,
   "metadata": {},
   "outputs": [],
   "source": [
    "X_train2, X_test2, y_train2, y_test2 = train_test_split(X2,y2,test_size = 0.3,stratify = y2,random_state = 42)"
   ]
  },
  {
   "cell_type": "code",
   "execution_count": 37,
   "metadata": {},
   "outputs": [],
   "source": [
    "model2 = Sequential()\n",
    "\n",
    "model2.add(Conv2D(filters = 20,                   # number of filters\n",
    "                         kernel_size = [1, 10],        # height/width of filter\n",
    "                         padding = \"same\",\n",
    "                         activation='relu',      # activation function \n",
    "                         input_shape=(X2[0].shape))) # shape of input (dimensions of training image)\n",
    "\n",
    "model2.add(Conv2D(20, kernel_size = [10, 1], activation='relu'))\n",
    "model2.add(MaxPooling2D(pool_size=(2,2)))\n",
    "model2.add(Dropout(0.25))\n",
    " \n",
    "model2.add(Conv2D(16, kernel_size = [1, 10], activation='relu'))\n",
    "model2.add(Conv2D(16, kernel_size = [10, 1], activation='relu'))\n",
    "model2.add(MaxPooling2D(pool_size=(2,2)))\n",
    "model2.add(Dropout(0.25))\n",
    "\n",
    "model2.add(Flatten())\n",
    "model2.add(Dense(64, activation='relu'))\n",
    "model2.add(Dense(y2.shape[1], activation='softmax'))"
   ]
  },
  {
   "cell_type": "code",
   "execution_count": 38,
   "metadata": {},
   "outputs": [
    {
     "name": "stdout",
     "output_type": "stream",
     "text": [
      "_________________________________________________________________\n",
      "Layer (type)                 Output Shape              Param #   \n",
      "=================================================================\n",
      "conv2d_23 (Conv2D)           (None, 256, 400, 20)      220       \n",
      "_________________________________________________________________\n",
      "conv2d_24 (Conv2D)           (None, 247, 400, 20)      4020      \n",
      "_________________________________________________________________\n",
      "max_pooling2d_12 (MaxPooling (None, 123, 200, 20)      0         \n",
      "_________________________________________________________________\n",
      "dropout_13 (Dropout)         (None, 123, 200, 20)      0         \n",
      "_________________________________________________________________\n",
      "conv2d_25 (Conv2D)           (None, 123, 191, 16)      3216      \n",
      "_________________________________________________________________\n",
      "conv2d_26 (Conv2D)           (None, 114, 191, 16)      2576      \n",
      "_________________________________________________________________\n",
      "max_pooling2d_13 (MaxPooling (None, 57, 95, 16)        0         \n",
      "_________________________________________________________________\n",
      "dropout_14 (Dropout)         (None, 57, 95, 16)        0         \n",
      "_________________________________________________________________\n",
      "flatten_8 (Flatten)          (None, 86640)             0         \n",
      "_________________________________________________________________\n",
      "dense_15 (Dense)             (None, 64)                5545024   \n",
      "_________________________________________________________________\n",
      "dense_16 (Dense)             (None, 55)                3575      \n",
      "=================================================================\n",
      "Total params: 5,558,631\n",
      "Trainable params: 5,558,631\n",
      "Non-trainable params: 0\n",
      "_________________________________________________________________\n"
     ]
    }
   ],
   "source": [
    "model2.summary()"
   ]
  },
  {
   "cell_type": "code",
   "execution_count": 39,
   "metadata": {},
   "outputs": [],
   "source": [
    "model2.compile(loss='categorical_crossentropy',\n",
    "              optimizer='adam',\n",
    "              metrics=['accuracy'])\n",
    "earlystop = EarlyStopping(monitor='val_acc', min_delta=0.0001, patience=7,verbose=1, mode='auto')\n",
    "callbacks_list = [earlystop]"
   ]
  },
  {
   "cell_type": "code",
   "execution_count": 40,
   "metadata": {
    "scrolled": true
   },
   "outputs": [
    {
     "name": "stdout",
     "output_type": "stream",
     "text": [
      "Train on 16352 samples, validate on 7008 samples\n",
      "Epoch 1/100\n",
      "16352/16352 [==============================] - 159s 10ms/step - loss: 3.0320 - acc: 0.1720 - val_loss: 2.1181 - val_acc: 0.3657\n",
      "Epoch 2/100\n",
      "16352/16352 [==============================] - 157s 10ms/step - loss: 1.8827 - acc: 0.4313 - val_loss: 1.7313 - val_acc: 0.4836\n",
      "Epoch 3/100\n",
      "16352/16352 [==============================] - 157s 10ms/step - loss: 1.3700 - acc: 0.5771 - val_loss: 1.5203 - val_acc: 0.5435\n",
      "Epoch 4/100\n",
      "16352/16352 [==============================] - 157s 10ms/step - loss: 0.9666 - acc: 0.6954 - val_loss: 1.2408 - val_acc: 0.6230\n",
      "Epoch 5/100\n",
      "16352/16352 [==============================] - 157s 10ms/step - loss: 0.6490 - acc: 0.7885 - val_loss: 1.2296 - val_acc: 0.6386\n",
      "Epoch 6/100\n",
      "16352/16352 [==============================] - 157s 10ms/step - loss: 0.4011 - acc: 0.8689 - val_loss: 1.3372 - val_acc: 0.6387\n",
      "Epoch 7/100\n",
      "16352/16352 [==============================] - 157s 10ms/step - loss: 0.2600 - acc: 0.9135 - val_loss: 1.4808 - val_acc: 0.6460\n",
      "Epoch 8/100\n",
      "16352/16352 [==============================] - 157s 10ms/step - loss: 0.1770 - acc: 0.9425 - val_loss: 1.8885 - val_acc: 0.6182\n",
      "Epoch 9/100\n",
      "16352/16352 [==============================] - 157s 10ms/step - loss: 0.1618 - acc: 0.9428 - val_loss: 2.0394 - val_acc: 0.6259\n",
      "Epoch 10/100\n",
      "16352/16352 [==============================] - 157s 10ms/step - loss: 0.1156 - acc: 0.9620 - val_loss: 2.1462 - val_acc: 0.6166\n",
      "Epoch 11/100\n",
      "16352/16352 [==============================] - 157s 10ms/step - loss: 0.1086 - acc: 0.9643 - val_loss: 2.0446 - val_acc: 0.6535\n",
      "Epoch 12/100\n",
      "16352/16352 [==============================] - 157s 10ms/step - loss: 0.0956 - acc: 0.9697 - val_loss: 2.0002 - val_acc: 0.6572\n",
      "Epoch 13/100\n",
      "16352/16352 [==============================] - 157s 10ms/step - loss: 0.0899 - acc: 0.9700 - val_loss: 1.9754 - val_acc: 0.6570\n",
      "Epoch 14/100\n",
      "16352/16352 [==============================] - 157s 10ms/step - loss: 0.0867 - acc: 0.9725 - val_loss: 2.1478 - val_acc: 0.6475\n",
      "Epoch 15/100\n",
      "16352/16352 [==============================] - 157s 10ms/step - loss: 0.0844 - acc: 0.9733 - val_loss: 2.3229 - val_acc: 0.6069\n",
      "Epoch 16/100\n",
      "16352/16352 [==============================] - 156s 10ms/step - loss: 0.0845 - acc: 0.9730 - val_loss: 2.2508 - val_acc: 0.6357\n",
      "Epoch 17/100\n",
      "16352/16352 [==============================] - 157s 10ms/step - loss: 0.0656 - acc: 0.9787 - val_loss: 2.2153 - val_acc: 0.6595\n",
      "Epoch 18/100\n",
      "16352/16352 [==============================] - 156s 10ms/step - loss: 0.0574 - acc: 0.9829 - val_loss: 2.3617 - val_acc: 0.6443\n",
      "Epoch 19/100\n",
      "16352/16352 [==============================] - 157s 10ms/step - loss: 0.0691 - acc: 0.9783 - val_loss: 2.2313 - val_acc: 0.6525\n",
      "Epoch 20/100\n",
      "16352/16352 [==============================] - 157s 10ms/step - loss: 0.0665 - acc: 0.9787 - val_loss: 2.1489 - val_acc: 0.6611\n",
      "Epoch 21/100\n",
      "16352/16352 [==============================] - 157s 10ms/step - loss: 0.0558 - acc: 0.9832 - val_loss: 2.3304 - val_acc: 0.6523\n",
      "Epoch 22/100\n",
      "16352/16352 [==============================] - 157s 10ms/step - loss: 0.0647 - acc: 0.9785 - val_loss: 2.2533 - val_acc: 0.6608\n",
      "Epoch 23/100\n",
      "16352/16352 [==============================] - 157s 10ms/step - loss: 0.0587 - acc: 0.9813 - val_loss: 2.5179 - val_acc: 0.6346\n",
      "Epoch 24/100\n",
      "16352/16352 [==============================] - 157s 10ms/step - loss: 0.0554 - acc: 0.9824 - val_loss: 2.3193 - val_acc: 0.6507\n",
      "Epoch 25/100\n",
      "16352/16352 [==============================] - 157s 10ms/step - loss: 0.0505 - acc: 0.9838 - val_loss: 2.3735 - val_acc: 0.6607\n",
      "Epoch 26/100\n",
      "16352/16352 [==============================] - 156s 10ms/step - loss: 0.0636 - acc: 0.9801 - val_loss: 2.3148 - val_acc: 0.6671\n",
      "Epoch 27/100\n",
      "16352/16352 [==============================] - 157s 10ms/step - loss: 0.0487 - acc: 0.9847 - val_loss: 2.5841 - val_acc: 0.6174\n",
      "Epoch 28/100\n",
      "16352/16352 [==============================] - 156s 10ms/step - loss: 0.0556 - acc: 0.9846 - val_loss: 2.2815 - val_acc: 0.6697\n",
      "Epoch 29/100\n",
      "16352/16352 [==============================] - 157s 10ms/step - loss: 0.0384 - acc: 0.9888 - val_loss: 2.5365 - val_acc: 0.6383\n",
      "Epoch 30/100\n",
      "16352/16352 [==============================] - 156s 10ms/step - loss: 0.0510 - acc: 0.9848 - val_loss: 2.3150 - val_acc: 0.6660\n",
      "Epoch 31/100\n",
      "16352/16352 [==============================] - 157s 10ms/step - loss: 0.0451 - acc: 0.9881 - val_loss: 2.4480 - val_acc: 0.6691\n",
      "Epoch 32/100\n",
      "16352/16352 [==============================] - 156s 10ms/step - loss: 0.0458 - acc: 0.9867 - val_loss: 2.7350 - val_acc: 0.6297\n",
      "Epoch 33/100\n",
      "16352/16352 [==============================] - 157s 10ms/step - loss: 0.0435 - acc: 0.9873 - val_loss: 2.4497 - val_acc: 0.6612\n",
      "Epoch 34/100\n",
      "16352/16352 [==============================] - 157s 10ms/step - loss: 0.0556 - acc: 0.9834 - val_loss: 2.5638 - val_acc: 0.6644\n",
      "Epoch 35/100\n",
      "16352/16352 [==============================] - 157s 10ms/step - loss: 0.0500 - acc: 0.9846 - val_loss: 2.2424 - val_acc: 0.6824\n",
      "Epoch 36/100\n",
      "16352/16352 [==============================] - 156s 10ms/step - loss: 0.0423 - acc: 0.9875 - val_loss: 2.8247 - val_acc: 0.6474\n",
      "Epoch 37/100\n",
      "16352/16352 [==============================] - 157s 10ms/step - loss: 0.0417 - acc: 0.9881 - val_loss: 2.3285 - val_acc: 0.6919\n",
      "Epoch 38/100\n",
      "16352/16352 [==============================] - 156s 10ms/step - loss: 0.0369 - acc: 0.9894 - val_loss: 2.5022 - val_acc: 0.6527\n",
      "Epoch 39/100\n",
      "16352/16352 [==============================] - 157s 10ms/step - loss: 0.0339 - acc: 0.9902 - val_loss: 2.5201 - val_acc: 0.6604\n",
      "Epoch 40/100\n",
      "16352/16352 [==============================] - 156s 10ms/step - loss: 0.0530 - acc: 0.9839 - val_loss: 2.3981 - val_acc: 0.6795\n",
      "Epoch 41/100\n",
      "16352/16352 [==============================] - 157s 10ms/step - loss: 0.0460 - acc: 0.9867 - val_loss: 2.5748 - val_acc: 0.6485\n",
      "Epoch 42/100\n",
      "16352/16352 [==============================] - 156s 10ms/step - loss: 0.0339 - acc: 0.9895 - val_loss: 2.4425 - val_acc: 0.6787\n",
      "Epoch 43/100\n",
      "16352/16352 [==============================] - 157s 10ms/step - loss: 0.0383 - acc: 0.9892 - val_loss: 2.5100 - val_acc: 0.6668\n",
      "Epoch 44/100\n",
      "16352/16352 [==============================] - 156s 10ms/step - loss: 0.0515 - acc: 0.9849 - val_loss: 2.3424 - val_acc: 0.6734\n",
      "Epoch 00044: early stopping\n"
     ]
    }
   ],
   "source": [
    "history2 = model2.fit(X_train2, y_train2, epochs=100, verbose=1, validation_data=(X_test2,y_test2),callbacks=callbacks_list)"
   ]
  },
  {
   "cell_type": "code",
   "execution_count": 41,
   "metadata": {},
   "outputs": [
    {
     "data": {
      "image/png": "[encoded data removed]",
      "text/plain": [
       "<Figure size 432x288 with 1 Axes>"
      ]
     },
     "metadata": {},
     "output_type": "display_data"
    }
   ],
   "source": [
    "plt.plot(history2.history['acc'])\n",
    "plt.plot(history2.history['val_acc'])\n",
    "plt.title('model accuracy')\n",
    "plt.ylabel('accuracy')\n",
    "plt.xlabel('epoch')\n",
    "plt.legend(['train', 'test'], loc='upper left')\n",
    "plt.show()"
   ]
  },
  {
   "cell_type": "code",
   "execution_count": 43,
   "metadata": {},
   "outputs": [
    {
     "data": {
      "image/png": "[encoded data removed]",
      "text/plain": [
       "<Figure size 432x288 with 1 Axes>"
      ]
     },
     "metadata": {},
     "output_type": "display_data"
    }
   ],
   "source": [
    "plt.plot(history2.history['loss'])\n",
    "plt.plot(history2.history['val_loss'])\n",
    "plt.title('model loss')\n",
    "plt.ylabel('loss')\n",
    "plt.xlabel('epoch')\n",
    "plt.legend(['train', 'test'], loc='upper left')\n",
    "plt.show()"
   ]
  },
  {
   "cell_type": "code",
   "execution_count": 42,
   "metadata": {},
   "outputs": [],
   "source": [
    "model2.save('model_grayscale_55ppl_longfilters.h5')"
   ]
  },
  {
   "cell_type": "markdown",
   "metadata": {},
   "source": [
    "# Third Model"
   ]
  },
  {
   "cell_type": "code",
   "execution_count": 44,
   "metadata": {},
   "outputs": [],
   "source": [
    "model2 = Sequential()\n",
    "\n",
    "model2.add(Conv2D(filters = 10,                   # number of filters\n",
    "                         kernel_size = [1, 10],        # height/width of filter\n",
    "                         padding = \"same\",\n",
    "                         activation='relu',      # activation function \n",
    "                         input_shape=(X2[0].shape))) # shape of input (dimensions of training image)\n",
    "\n",
    "model2.add(Conv2D(10, kernel_size = [10, 1], activation='relu'))\n",
    "model2.add(MaxPooling2D(pool_size=(2,2)))\n",
    "model2.add(Dropout(0.5))\n",
    " \n",
    "model2.add(Conv2D(20, kernel_size = [1, 20], activation='relu'))\n",
    "model2.add(Conv2D(20, kernel_size = [20, 1], activation='relu'))\n",
    "model2.add(MaxPooling2D(pool_size=(2,2)))\n",
    "model2.add(Dropout(0.5))\n",
    "\n",
    "model2.add(Flatten())\n",
    "model2.add(Dense(64, activation='relu'))\n",
    "model2.add(Dense(y2.shape[1], activation='softmax'))"
   ]
  },
  {
   "cell_type": "code",
   "execution_count": 45,
   "metadata": {},
   "outputs": [
    {
     "name": "stdout",
     "output_type": "stream",
     "text": [
      "_________________________________________________________________\n",
      "Layer (type)                 Output Shape              Param #   \n",
      "=================================================================\n",
      "conv2d_27 (Conv2D)           (None, 256, 400, 10)      110       \n",
      "_________________________________________________________________\n",
      "conv2d_28 (Conv2D)           (None, 247, 400, 10)      1010      \n",
      "_________________________________________________________________\n",
      "max_pooling2d_14 (MaxPooling (None, 123, 200, 10)      0         \n",
      "_________________________________________________________________\n",
      "dropout_15 (Dropout)         (None, 123, 200, 10)      0         \n",
      "_________________________________________________________________\n",
      "conv2d_29 (Conv2D)           (None, 123, 181, 20)      4020      \n",
      "_________________________________________________________________\n",
      "conv2d_30 (Conv2D)           (None, 104, 181, 20)      8020      \n",
      "_________________________________________________________________\n",
      "max_pooling2d_15 (MaxPooling (None, 52, 90, 20)        0         \n",
      "_________________________________________________________________\n",
      "dropout_16 (Dropout)         (None, 52, 90, 20)        0         \n",
      "_________________________________________________________________\n",
      "flatten_9 (Flatten)          (None, 93600)             0         \n",
      "_________________________________________________________________\n",
      "dense_17 (Dense)             (None, 64)                5990464   \n",
      "_________________________________________________________________\n",
      "dense_18 (Dense)             (None, 55)                3575      \n",
      "=================================================================\n",
      "Total params: 6,007,199\n",
      "Trainable params: 6,007,199\n",
      "Non-trainable params: 0\n",
      "_________________________________________________________________\n"
     ]
    }
   ],
   "source": [
    "model2.summary()"
   ]
  },
  {
   "cell_type": "code",
   "execution_count": 46,
   "metadata": {},
   "outputs": [],
   "source": [
    "model2.compile(loss='categorical_crossentropy',\n",
    "              optimizer='adam',\n",
    "              metrics=['accuracy'])\n",
    "earlystop = EarlyStopping(monitor='val_acc', min_delta=0.0001, patience=7,verbose=1, mode='auto')\n",
    "callbacks_list = [earlystop]"
   ]
  },
  {
   "cell_type": "code",
   "execution_count": 47,
   "metadata": {},
   "outputs": [
    {
     "name": "stdout",
     "output_type": "stream",
     "text": [
      "Train on 16352 samples, validate on 7008 samples\n",
      "Epoch 1/100\n",
      "16352/16352 [==============================] - 119s 7ms/step - loss: 4.0075 - acc: 0.0204 - val_loss: 4.0016 - val_acc: 0.0220\n",
      "Epoch 2/100\n",
      "16352/16352 [==============================] - 117s 7ms/step - loss: 3.9379 - acc: 0.0334 - val_loss: 3.3493 - val_acc: 0.1401\n",
      "Epoch 3/100\n",
      "16352/16352 [==============================] - 117s 7ms/step - loss: 2.2778 - acc: 0.3463 - val_loss: 1.7987 - val_acc: 0.4817\n",
      "Epoch 4/100\n",
      "16352/16352 [==============================] - 117s 7ms/step - loss: 1.6472 - acc: 0.5109 - val_loss: 1.6333 - val_acc: 0.5130\n",
      "Epoch 5/100\n",
      "16352/16352 [==============================] - 117s 7ms/step - loss: 1.4587 - acc: 0.5634 - val_loss: 1.5757 - val_acc: 0.5303\n",
      "Epoch 6/100\n",
      "16352/16352 [==============================] - 117s 7ms/step - loss: 1.3314 - acc: 0.5988 - val_loss: 1.5135 - val_acc: 0.5478\n",
      "Epoch 7/100\n",
      "16352/16352 [==============================] - 117s 7ms/step - loss: 1.1716 - acc: 0.6429 - val_loss: 1.3667 - val_acc: 0.5938\n",
      "Epoch 8/100\n",
      "16352/16352 [==============================] - 117s 7ms/step - loss: 1.0079 - acc: 0.6896 - val_loss: 1.2742 - val_acc: 0.6210\n",
      "Epoch 9/100\n",
      "16352/16352 [==============================] - 117s 7ms/step - loss: 0.8835 - acc: 0.7221 - val_loss: 1.2073 - val_acc: 0.6396\n",
      "Epoch 10/100\n",
      "16352/16352 [==============================] - 117s 7ms/step - loss: 0.7781 - acc: 0.7546 - val_loss: 1.3263 - val_acc: 0.6233\n",
      "Epoch 11/100\n",
      "16352/16352 [==============================] - 117s 7ms/step - loss: 0.6994 - acc: 0.7754 - val_loss: 1.2794 - val_acc: 0.6340\n",
      "Epoch 12/100\n",
      "16352/16352 [==============================] - 117s 7ms/step - loss: 0.6300 - acc: 0.8011 - val_loss: 1.3389 - val_acc: 0.6306\n",
      "Epoch 13/100\n",
      "16352/16352 [==============================] - 117s 7ms/step - loss: 0.5789 - acc: 0.8123 - val_loss: 1.2396 - val_acc: 0.6611\n",
      "Epoch 14/100\n",
      "16352/16352 [==============================] - 117s 7ms/step - loss: 0.5231 - acc: 0.8294 - val_loss: 1.5995 - val_acc: 0.5952\n",
      "Epoch 15/100\n",
      "16352/16352 [==============================] - 117s 7ms/step - loss: 0.4629 - acc: 0.8464 - val_loss: 1.3994 - val_acc: 0.6468\n",
      "Epoch 16/100\n",
      "16352/16352 [==============================] - 117s 7ms/step - loss: 0.4243 - acc: 0.8579 - val_loss: 1.5000 - val_acc: 0.6191\n",
      "Epoch 17/100\n",
      "16352/16352 [==============================] - 117s 7ms/step - loss: 0.3706 - acc: 0.8777 - val_loss: 1.3714 - val_acc: 0.6734\n",
      "Epoch 18/100\n",
      "16352/16352 [==============================] - 117s 7ms/step - loss: 0.3338 - acc: 0.8888 - val_loss: 1.4206 - val_acc: 0.6655\n",
      "Epoch 19/100\n",
      "16352/16352 [==============================] - 117s 7ms/step - loss: 0.3157 - acc: 0.8918 - val_loss: 1.8167 - val_acc: 0.6180\n",
      "Epoch 20/100\n",
      "16352/16352 [==============================] - 117s 7ms/step - loss: 0.2730 - acc: 0.9059 - val_loss: 1.7761 - val_acc: 0.6336\n",
      "Epoch 21/100\n",
      "16352/16352 [==============================] - 117s 7ms/step - loss: 0.2467 - acc: 0.9167 - val_loss: 2.1048 - val_acc: 0.5959\n",
      "Epoch 22/100\n",
      "16352/16352 [==============================] - 117s 7ms/step - loss: 0.2498 - acc: 0.9195 - val_loss: 1.5376 - val_acc: 0.6771\n",
      "Epoch 23/100\n",
      "16352/16352 [==============================] - 117s 7ms/step - loss: 0.2210 - acc: 0.9272 - val_loss: 1.8139 - val_acc: 0.6384\n",
      "Epoch 24/100\n",
      "16352/16352 [==============================] - 117s 7ms/step - loss: 0.2085 - acc: 0.9315 - val_loss: 1.6183 - val_acc: 0.6715\n",
      "Epoch 25/100\n",
      "16352/16352 [==============================] - 117s 7ms/step - loss: 0.1774 - acc: 0.9404 - val_loss: 1.5283 - val_acc: 0.6934\n",
      "Epoch 26/100\n",
      "16352/16352 [==============================] - 117s 7ms/step - loss: 0.1847 - acc: 0.9409 - val_loss: 2.4582 - val_acc: 0.5977\n",
      "Epoch 27/100\n",
      "16352/16352 [==============================] - 117s 7ms/step - loss: 0.1736 - acc: 0.9401 - val_loss: 2.0803 - val_acc: 0.6297\n",
      "Epoch 28/100\n",
      "16352/16352 [==============================] - 117s 7ms/step - loss: 0.1514 - acc: 0.9490 - val_loss: 2.1114 - val_acc: 0.6286\n",
      "Epoch 29/100\n",
      "16352/16352 [==============================] - 117s 7ms/step - loss: 0.1567 - acc: 0.9480 - val_loss: 2.0144 - val_acc: 0.6465\n",
      "Epoch 30/100\n",
      "16352/16352 [==============================] - 117s 7ms/step - loss: 0.1550 - acc: 0.9480 - val_loss: 2.0468 - val_acc: 0.6493\n",
      "Epoch 31/100\n",
      "16352/16352 [==============================] - 117s 7ms/step - loss: 0.1419 - acc: 0.9513 - val_loss: 2.2079 - val_acc: 0.6378\n",
      "Epoch 32/100\n",
      "16352/16352 [==============================] - 117s 7ms/step - loss: 0.1434 - acc: 0.9532 - val_loss: 1.7583 - val_acc: 0.6891\n",
      "Epoch 00032: early stopping\n"
     ]
    }
   ],
   "source": [
    "history2 = model2.fit(X_train2, y_train2, epochs=100, verbose=1, validation_data=(X_test2,y_test2),callbacks=callbacks_list)"
   ]
  },
  {
   "cell_type": "code",
   "execution_count": 48,
   "metadata": {},
   "outputs": [
    {
     "data": {
      "image/png": "[encoded data removed]",
      "text/plain": [
       "<Figure size 432x288 with 1 Axes>"
      ]
     },
     "metadata": {},
     "output_type": "display_data"
    }
   ],
   "source": [
    "plt.plot(history2.history['acc'])\n",
    "plt.plot(history2.history['val_acc'])\n",
    "plt.title('model accuracy')\n",
    "plt.ylabel('accuracy')\n",
    "plt.xlabel('epoch')\n",
    "plt.legend(['train', 'test'], loc='upper left')\n",
    "plt.show()"
   ]
  },
  {
   "cell_type": "code",
   "execution_count": 49,
   "metadata": {},
   "outputs": [
    {
     "data": {
      "image/png": "[encoded data removed]",
      "text/plain": [
       "<Figure size 432x288 with 1 Axes>"
      ]
     },
     "metadata": {},
     "output_type": "display_data"
    }
   ],
   "source": [
    "plt.plot(history2.history['loss'])\n",
    "plt.plot(history2.history['val_loss'])\n",
    "plt.title('model loss')\n",
    "plt.ylabel('loss')\n",
    "plt.xlabel('epoch')\n",
    "plt.legend(['train', 'test'], loc='upper left')\n",
    "plt.show()"
   ]
  },
  {
   "cell_type": "code",
   "execution_count": null,
   "metadata": {},
   "outputs": [],
   "source": [
    "X_train2, X_test2, y_train2, y_test2 = train_test_split(X2,y2,test_size = 0.3,stratify = y2,random_state = 42)"
   ]
  },
  {
   "cell_type": "code",
   "execution_count": null,
   "metadata": {},
   "outputs": [],
   "source": [
    "model2 = Sequential()\n",
    "\n",
    "model2.add(Conv2D(filters = 20,                   # number of filters\n",
    "                         kernel_size = [1, 10],        # height/width of filter\n",
    "                         padding = \"same\",\n",
    "                         activation='relu',      # activation function \n",
    "                         input_shape=(X2[0].shape))) # shape of input (dimensions of training image)\n",
    "\n",
    "model2.add(Conv2D(20, kernel_size = [10, 1], activation='relu'))\n",
    "model2.add(MaxPooling2D(pool_size=(2,2)))\n",
    "model2.add(Dropout(0.25))\n",
    " \n",
    "model2.add(Conv2D(16, kernel_size = [1, 10], activation='relu'))\n",
    "model2.add(Conv2D(16, kernel_size = [10, 1], activation='relu'))\n",
    "model2.add(MaxPooling2D(pool_size=(2,2)))\n",
    "model2.add(Dropout(0.25))\n",
    "\n",
    "model2.add(Flatten())\n",
    "model2.add(Dense(64, activation='relu'))\n",
    "model2.add(Dense(y2.shape[1], activation='softmax'))"
   ]
  },
  {
   "cell_type": "code",
   "execution_count": null,
   "metadata": {},
   "outputs": [],
   "source": [
    "model2.summary()"
   ]
  },
  {
   "cell_type": "code",
   "execution_count": null,
   "metadata": {},
   "outputs": [],
   "source": [
    "model2.compile(loss='categorical_crossentropy',\n",
    "              optimizer='adam',\n",
    "              metrics=['accuracy'])\n",
    "earlystop = EarlyStopping(monitor='val_acc', min_delta=0.0001, patience=7,verbose=1, mode='auto')\n",
    "callbacks_list = [earlystop]"
   ]
  },
  {
   "cell_type": "code",
   "execution_count": null,
   "metadata": {},
   "outputs": [],
   "source": [
    "history3 = model2.fit(X_train2, y_train2, epochs=100, verbose=1, validation_data=(X_test2,y_test2),callbacks=callbacks_list)"
   ]
  }
 ],
 "metadata": {
  "kernelspec": {
   "display_name": "Python 3",
   "language": "python",
   "name": "python3"
  },
  "language_info": {
   "codemirror_mode": {
    "name": "ipython",
    "version": 3
   },
   "file_extension": ".py",
   "mimetype": "text/x-python",
   "name": "python",
   "nbconvert_exporter": "python",
   "pygments_lexer": "ipython3",
   "version": "3.6.5"
  }
 },
 "nbformat": 4,
 "nbformat_minor": 2
}
