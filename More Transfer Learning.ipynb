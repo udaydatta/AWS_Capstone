{
 "cells": [
  {
   "cell_type": "code",
   "execution_count": 2,
   "metadata": {},
   "outputs": [
    {
     "name": "stderr",
     "output_type": "stream",
     "text": [
      "Using TensorFlow backend.\n"
     ]
    }
   ],
   "source": [
    "import matplotlib.pyplot as plt\n",
    "import pandas as pd\n",
    "import numpy as np\n",
    "import cv2\n",
    "import os\n",
    "import subprocess\n",
    "import os.path\n",
    "import time\n",
    "import math\n",
    "import csv\n",
    "#%matplotlib inline\n",
    "    \n",
    "from sklearn.datasets import make_regression, make_classification, load_iris\n",
    "from sklearn.preprocessing import StandardScaler, OneHotEncoder, LabelEncoder\n",
    "from sklearn.model_selection import train_test_split\n",
    "from sklearn.metrics import confusion_matrix\n",
    "\n",
    "from keras.models import Sequential, Model, load_model\n",
    "from keras.layers import Dense, Dropout, Activation, Flatten, Conv2D, MaxPooling2D\n",
    "from keras.utils import to_categorical,np_utils\n",
    "from keras.callbacks import EarlyStopping\n",
    "\n",
    "#Function from Alex Lin \n",
    "def bash(string):\n",
    "    '''run a bash command and return stdout lines as a py list'''\n",
    "    stdout=(subprocess.Popen(string, shell=True, stdout=subprocess.PIPE).stdout.read())\n",
    "    output = str(stdout)[2:-1].split('\\\\n')[:-1]\n",
    "    #output = str(stdout).split('\\\\n')[1:-1]\n",
    "    #output[0] = output[0][2:]\n",
    "    return output\n",
    "\n",
    "# Get all the spectrograms in the Data Folder\n",
    "# then put in a numpy array\n",
    "# Get labels too\n",
    "\n",
    "def load_data(data_folder, divisor, start_at = \"none\", stop = \"none\"):\n",
    "    lis = bash('ls '+ data_folder)\n",
    "    \n",
    "    start_flag = 0\n",
    "    img_array = []\n",
    "    labels = []\n",
    "    \n",
    "    if start_at == \"none\":\n",
    "        start_flag = 1\n",
    "\n",
    "    for path in lis:\n",
    "        path_ = data_folder+ path\n",
    "        \n",
    "        if path_ == start_at:\n",
    "            start_flag = 1\n",
    "        \n",
    "        if start_flag == 0:\n",
    "            continue\n",
    "\n",
    "        if path_ == stop:\n",
    "            break;\n",
    "\n",
    "        img = cv2.imread(path_,1)\n",
    "        img_norm = img/255\n",
    "        img_norm.resize(int(513/divisor),int(800/divisor),3)\n",
    "        img_array.append(img_norm)\n",
    "        labels.append(path[0:6])\n",
    "    return img_array, labels\n",
    "\n",
    "def convert_img_array_to_X(img_array):\n",
    "    X = np.array(img_array)\n",
    "    return X\n",
    "\n",
    "def labels_onehot(labels):\n",
    "    le = LabelEncoder()\n",
    "    y_cat = le.fit_transform(labels)\n",
    "    y_cat = y_cat.reshape(-1,1)\n",
    "    \n",
    "    ohe = OneHotEncoder()\n",
    "    y_cat = ohe.fit_transform(y_cat).toarray()\n",
    "    \n",
    "    return y_cat"
   ]
  },
  {
   "cell_type": "code",
   "execution_count": 3,
   "metadata": {},
   "outputs": [],
   "source": [
    "model = load_model('model_03_9ppl_v1.h5')"
   ]
  },
  {
   "cell_type": "code",
   "execution_count": 4,
   "metadata": {},
   "outputs": [],
   "source": [
    "model3 = Model(inputs=model.input, outputs=model.get_layer('flatten_1').output)"
   ]
  },
  {
   "cell_type": "markdown",
   "metadata": {},
   "source": [
    "Load Data for Train , Test"
   ]
  },
  {
   "cell_type": "code",
   "execution_count": 5,
   "metadata": {},
   "outputs": [],
   "source": [
    "X3 ,y3 = load_data(data_folder=\"../Data/\", divisor = 2,start_at = '../Data/20_mp3-000.png',stop = '../Data/24_mp3-000.png')\n",
    "\n",
    "X3 = convert_img_array_to_X(X3)\n",
    "y3 = labels_onehot(y3)"
   ]
  },
  {
   "cell_type": "markdown",
   "metadata": {},
   "source": [
    "Train-Test Split"
   ]
  },
  {
   "cell_type": "code",
   "execution_count": 6,
   "metadata": {},
   "outputs": [],
   "source": [
    "X_train3, X_test3, y_train3, y_test3 = train_test_split(X3,y3,test_size = 0.1,stratify = y3)"
   ]
  },
  {
   "cell_type": "markdown",
   "metadata": {},
   "source": [
    "Initialize SVM"
   ]
  },
  {
   "cell_type": "code",
   "execution_count": 7,
   "metadata": {},
   "outputs": [],
   "source": [
    "from sklearn import svm\n",
    "clf = svm.SVC(kernel='rbf', class_weight='balanced')\n",
    "\n",
    "X_train3_predict = model3.predict(X_train3)\n",
    "X_test3_predict = model3.predict(X_test3)\n",
    "\n",
    "y_train3_predict = [np.where(r==1)[0][0] for r in y_train3]\n",
    "y_test3_predict = [np.where(r==1)[0][0] for r in y_test3]"
   ]
  },
  {
   "cell_type": "code",
   "execution_count": 8,
   "metadata": {},
   "outputs": [
    {
     "data": {
      "text/plain": [
       "array([[46,  0,  0],\n",
       "       [ 0, 23,  0],\n",
       "       [ 0, 12, 29]])"
      ]
     },
     "execution_count": 8,
     "metadata": {},
     "output_type": "execute_result"
    }
   ],
   "source": [
    "len(y_train3)\n",
    "y_train3.shape\n",
    "\n",
    "clf.fit(X_train3_predict, y_train3_predict)\n",
    "\n",
    "predictions = clf.predict(X_test3_predict)\n",
    "\n",
    "from sklearn.metrics import accuracy_score\n",
    "accuracy_score(y_test3_predict, predictions)\n",
    "\n",
    "confusion_matrix(y_test3_predict, predictions)"
   ]
  },
  {
   "cell_type": "code",
   "execution_count": 8,
   "metadata": {},
   "outputs": [
    {
     "data": {
      "text/plain": [
       "array([[44,  2,  0],\n",
       "       [ 0, 43,  0],\n",
       "       [ 2,  6, 43]])"
      ]
     },
     "execution_count": 8,
     "metadata": {},
     "output_type": "execute_result"
    }
   ],
   "source": [
    "from sklearn import svm\n",
    "clf = svm.SVC(kernel='rbf', class_weight='balanced')\n",
    "\n",
    "X_train3_predict = model3.predict(X_train3)\n",
    "X_test3_predict = model3.predict(X_test3)\n",
    "\n",
    "y_train3_predict = [np.where(r==1)[0][0] for r in y_train3]\n",
    "y_test3_predict = [np.where(r==1)[0][0] for r in y_test3]\n",
    "\n",
    "y_train3.shape\n",
    "\n",
    "clf.fit(X_train3_predict, y_train3_predict)\n",
    "\n",
    "predictions = clf.predict(X_test3_predict)\n",
    "\n",
    "from sklearn.metrics import accuracy_score\n",
    "accuracy_score(y_test3_predict, predictions)\n",
    "\n",
    "confusion_matrix(y_test3_predict, predictions)"
   ]
  },
  {
   "cell_type": "code",
   "execution_count": null,
   "metadata": {},
   "outputs": [],
   "source": []
  }
 ],
 "metadata": {
  "kernelspec": {
   "display_name": "Python 3",
   "language": "python",
   "name": "python3"
  },
  "language_info": {
   "codemirror_mode": {
    "name": "ipython",
    "version": 3
   },
   "file_extension": ".py",
   "mimetype": "text/x-python",
   "name": "python",
   "nbconvert_exporter": "python",
   "pygments_lexer": "ipython3",
   "version": "3.6.5"
  }
 },
 "nbformat": 4,
 "nbformat_minor": 2
}
