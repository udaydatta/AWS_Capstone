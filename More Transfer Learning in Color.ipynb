{
 "cells": [
  {
   "cell_type": "code",
   "execution_count": 4,
   "metadata": {},
   "outputs": [],
   "source": [
    "from imports_color import *"
   ]
  },
  {
   "cell_type": "code",
   "execution_count": 2,
   "metadata": {},
   "outputs": [],
   "source": [
    "model = load_model('model_03_9ppl_v1.h5')"
   ]
  },
  {
   "cell_type": "code",
   "execution_count": 4,
   "metadata": {},
   "outputs": [],
   "source": [
    "model3 = Model(inputs=model.input, outputs=model.get_layer('flatten_1').output)"
   ]
  },
  {
   "cell_type": "markdown",
   "metadata": {},
   "source": [
    "Load Data for Train , Test"
   ]
  },
  {
   "cell_type": "code",
   "execution_count": 5,
   "metadata": {},
   "outputs": [],
   "source": [
    "X3 ,y3 = load_data(data_folder=\"../Data/\", divisor = 2,start_at = '../Data/20_mp3-000.png',stop = '../Data/24_mp3-000.png')\n",
    "\n",
    "X3 = convert_img_array_to_X(X3)\n",
    "y3 = labels_onehot(y3)"
   ]
  },
  {
   "cell_type": "markdown",
   "metadata": {},
   "source": [
    "Train-Test Split"
   ]
  },
  {
   "cell_type": "code",
   "execution_count": 6,
   "metadata": {},
   "outputs": [],
   "source": [
    "X_train3, X_test3, y_train3, y_test3 = train_test_split(X3,y3,test_size = 0.1,stratify = y3)"
   ]
  },
  {
   "cell_type": "markdown",
   "metadata": {},
   "source": [
    "Initialize SVM"
   ]
  },
  {
   "cell_type": "code",
   "execution_count": 7,
   "metadata": {},
   "outputs": [],
   "source": [
    "clf = svm.SVC(kernel='rbf', class_weight='balanced')\n",
    "\n",
    "X_train3_predict = model3.predict(X_train3)\n",
    "X_test3_predict = model3.predict(X_test3)\n",
    "\n",
    "y_train3_predict = [np.where(r==1)[0][0] for r in y_train3]\n",
    "y_test3_predict = [np.where(r==1)[0][0] for r in y_test3]"
   ]
  },
  {
   "cell_type": "code",
   "execution_count": 8,
   "metadata": {},
   "outputs": [
    {
     "data": {
      "text/plain": [
       "array([[46,  0,  0],\n",
       "       [ 0, 23,  0],\n",
       "       [ 0, 12, 29]])"
      ]
     },
     "execution_count": 8,
     "metadata": {},
     "output_type": "execute_result"
    }
   ],
   "source": [
    "len(y_train3)\n",
    "y_train3.shape\n",
    "\n",
    "clf.fit(X_train3_predict, y_train3_predict)\n",
    "\n",
    "predictions = clf.predict(X_test3_predict)\n",
    "\n",
    "from sklearn.metrics import accuracy_score\n",
    "accuracy_score(y_test3_predict, predictions)\n",
    "\n",
    "confusion_matrix(y_test3_predict, predictions)"
   ]
  },
  {
   "cell_type": "code",
   "execution_count": 8,
   "metadata": {},
   "outputs": [
    {
     "data": {
      "text/plain": [
       "array([[44,  2,  0],\n",
       "       [ 0, 43,  0],\n",
       "       [ 2,  6, 43]])"
      ]
     },
     "execution_count": 8,
     "metadata": {},
     "output_type": "execute_result"
    }
   ],
   "source": [
    "clf = svm.SVC(kernel='rbf', class_weight='balanced')\n",
    "\n",
    "X_train3_predict = model3.predict(X_train3)\n",
    "X_test3_predict = model3.predict(X_test3)\n",
    "\n",
    "y_train3_predict = [np.where(r==1)[0][0] for r in y_train3]\n",
    "y_test3_predict = [np.where(r==1)[0][0] for r in y_test3]\n",
    "\n",
    "y_train3.shape\n",
    "\n",
    "clf.fit(X_train3_predict, y_train3_predict)\n",
    "\n",
    "predictions = clf.predict(X_test3_predict)\n",
    "\n",
    "from sklearn.metrics import accuracy_score\n",
    "accuracy_score(y_test3_predict, predictions)\n",
    "\n",
    "confusion_matrix(y_test3_predict, predictions)"
   ]
  },
  {
   "cell_type": "code",
   "execution_count": null,
   "metadata": {},
   "outputs": [],
   "source": []
  }
 ],
 "metadata": {
  "kernelspec": {
   "display_name": "Python 3",
   "language": "python",
   "name": "python3"
  },
  "language_info": {
   "codemirror_mode": {
    "name": "ipython",
    "version": 3
   },
   "file_extension": ".py",
   "mimetype": "text/x-python",
   "name": "python",
   "nbconvert_exporter": "python",
   "pygments_lexer": "ipython3",
   "version": "3.6.5"
  }
 },
 "nbformat": 4,
 "nbformat_minor": 2
}
