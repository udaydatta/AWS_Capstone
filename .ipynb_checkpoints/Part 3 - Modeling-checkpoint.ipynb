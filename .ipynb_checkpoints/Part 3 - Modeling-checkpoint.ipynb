{
 "cells": [
  {
   "cell_type": "code",
   "execution_count": 1,
   "metadata": {},
   "outputs": [
    {
     "ename": "ModuleNotFoundError",
     "evalue": "No module named 'cv2'",
     "output_type": "error",
     "traceback": [
      "\u001b[0;31m---------------------------------------------------------------------------\u001b[0m",
      "\u001b[0;31mModuleNotFoundError\u001b[0m                       Traceback (most recent call last)",
      "\u001b[0;32m<ipython-input-1-1dbd47521ea6>\u001b[0m in \u001b[0;36m<module>\u001b[0;34m()\u001b[0m\n\u001b[1;32m      2\u001b[0m \u001b[0;32mimport\u001b[0m \u001b[0mpandas\u001b[0m \u001b[0;32mas\u001b[0m \u001b[0mpd\u001b[0m\u001b[0;34m\u001b[0m\u001b[0m\n\u001b[1;32m      3\u001b[0m \u001b[0;32mimport\u001b[0m \u001b[0mnumpy\u001b[0m \u001b[0;32mas\u001b[0m \u001b[0mnp\u001b[0m\u001b[0;34m\u001b[0m\u001b[0m\n\u001b[0;32m----> 4\u001b[0;31m \u001b[0;32mimport\u001b[0m \u001b[0mcv2\u001b[0m\u001b[0;34m\u001b[0m\u001b[0m\n\u001b[0m\u001b[1;32m      5\u001b[0m \u001b[0;32mimport\u001b[0m \u001b[0mos\u001b[0m\u001b[0;34m\u001b[0m\u001b[0m\n\u001b[1;32m      6\u001b[0m \u001b[0;32mimport\u001b[0m \u001b[0msubprocess\u001b[0m\u001b[0;34m\u001b[0m\u001b[0m\n",
      "\u001b[0;31mModuleNotFoundError\u001b[0m: No module named 'cv2'"
     ]
    }
   ],
   "source": [
    "import matplotlib.pyplot as plt\n",
    "import pandas as pd\n",
    "import numpy as np\n",
    "import cv2\n",
    "import os\n",
    "import subprocess\n",
    "import os.path\n",
    "import time\n",
    "import math\n",
    "import csv\n",
    "%matplotlib inline\n",
    "    \n",
    "\n",
    "from sklearn.datasets import make_regression, make_classification, load_iris\n",
    "from sklearn.preprocessing import StandardScaler, OneHotEncoder, LabelEncoder\n",
    "from sklearn.model_selection import train_test_split\n",
    "from sklearn.metrics import confusion_matrix\n",
    "\n",
    "from keras.models import Sequential\n",
    "from keras.layers import Dense, Dropout, Activation, Flatten, Conv2D, MaxPooling2D\n",
    "from keras.utils import to_categorical,np_utils\n",
    "from keras.callbacks import EarlyStopping\n",
    "\n",
    "# Some signal processing stuff\n",
    "from scipy import signal\n",
    "from scipy.io import wavfile\n",
    "\n",
    "# IPython.display lets you put interactive widgets that can play audio and video, and display images\n",
    "from IPython.display import Audio, Image\n",
    "\n",
    "#Function from Alex Lin \n",
    "def bash(string):\n",
    "    '''run a bash command and return stdout lines as a py list'''\n",
    "    stdout=(subprocess.Popen(string, shell=True, stdout=subprocess.PIPE).stdout.read())\n",
    "    output = str(stdout)[2:-1].split('\\\\n')[:-1]\n",
    "    #output = str(stdout).split('\\\\n')[1:-1]\n",
    "    #output[0] = output[0][2:]\n",
    "    return output\n",
    "\n",
    "# Get all the spectrograms in the Data Folder\n",
    "# then put in a numpy array\n",
    "# Get labels too\n",
    "\n",
    "def load_process_data(data_folder, divisor):\n",
    "    lis = bash('ls '+ data_folder)\n",
    "\n",
    "    img_array = []\n",
    "    labels = []\n",
    "\n",
    "    for path in lis:\n",
    "        path_ = data_folder+ path\n",
    "    #     if path == 'E:/spectrogram/06_mp3/06_mp3-314.png':\n",
    "    #         img = cv2.imread(path,1)\n",
    "    #         img_norm = img/255\n",
    "    #         img_array.append(img)\n",
    "    #         labels.append(path[15:21])\n",
    "    #         break;\n",
    "\n",
    "        img = cv2.imread(path_,1)\n",
    "        img_norm = img/255\n",
    "        img_norm.resize(int(513/divisor),int(800/divisor),3)\n",
    "        img_array.append(img_norm)\n",
    "        labels.append(path[0:6])\n",
    "    img_array_nd = np.array(img_array)\n",
    "    \n",
    "    le = LabelEncoder()\n",
    "    y_cat = le.fit_transform(labels)\n",
    "    y_cat = y_cat.reshape(-1,1)\n",
    "    \n",
    "    ohe = OneHotEncoder()\n",
    "    y_cat = ohe.fit_transform(y_cat).toarray()\n",
    "    \n",
    "    X = img_array_nd\n",
    "    y = y_cat\n",
    "    \n",
    "    return X,y,labels"
   ]
  },
  {
   "cell_type": "code",
   "execution_count": null,
   "metadata": {},
   "outputs": [],
   "source": [
    "X,y,labels = load_process_data(\"../Data/\",2)\n",
    "X_train, X_test, y_train, y_test = train_test_split(X,y,test_size = 0.1,stratify = y)"
   ]
  },
  {
   "cell_type": "code",
   "execution_count": null,
   "metadata": {},
   "outputs": [],
   "source": [
    "model2 = Sequential()\n",
    "\n",
    "model2.add(Conv2D(filters = 8,                   # number of filters\n",
    "                         kernel_size = 5,        # height/width of filter\n",
    "                         padding = \"same\",\n",
    "                         activation='relu',      # activation function \n",
    "                         input_shape=(X_test[0].shape))) # shape of input (dimensions of training image)\n",
    "\n",
    "model2.add(Conv2D(16, kernel_size = 5, activation='relu'))\n",
    "model2.add(MaxPooling2D(pool_size=(2,2)))\n",
    "model2.add(Dropout(0.25))\n",
    " \n",
    "model2.add(Conv2D(16, kernel_size = 3, activation='relu'))\n",
    "model2.add(Conv2D(16, kernel_size = 3, activation='relu'))\n",
    "model2.add(MaxPooling2D(pool_size=(2,2)))\n",
    "\n",
    "model2.add(Flatten())\n",
    "model2.add(Activation('relu'))\n",
    "# model2.add(Dense(128, activation='relu'))\n",
    "# model2.add(Dropout(0.5))\n",
    "model2.add(Dense(7, activation='softmax'))"
   ]
  },
  {
   "cell_type": "code",
   "execution_count": null,
   "metadata": {},
   "outputs": [],
   "source": [
    "model2.summary()"
   ]
  },
  {
   "cell_type": "code",
   "execution_count": null,
   "metadata": {},
   "outputs": [],
   "source": [
    "model2.compile(loss='categorical_crossentropy',\n",
    "              optimizer='adam',\n",
    "              metrics=['accuracy'])\n",
    "earlystop = EarlyStopping(monitor='val_acc', min_delta=0.0001, patience=3,verbose=1, mode='auto')\n",
    "callbacks_list = [earlystop]"
   ]
  },
  {
   "cell_type": "code",
   "execution_count": null,
   "metadata": {},
   "outputs": [],
   "source": [
    "model2.fit(X_train, y_train, epochs=100, verbose=1, validation_data=(X_test,y_test),)"
   ]
  },
  {
   "cell_type": "code",
   "execution_count": null,
   "metadata": {},
   "outputs": [],
   "source": [
    "model2.save('model_03_v1.h5')"
   ]
  }
 ],
 "metadata": {
  "kernelspec": {
   "display_name": "Python 3",
   "language": "python",
   "name": "python3"
  },
  "language_info": {
   "codemirror_mode": {
    "name": "ipython",
    "version": 3
   },
   "file_extension": ".py",
   "mimetype": "text/x-python",
   "name": "python",
   "nbconvert_exporter": "python",
   "pygments_lexer": "ipython3",
   "version": "3.6.5"
  }
 },
 "nbformat": 4,
 "nbformat_minor": 2
}
